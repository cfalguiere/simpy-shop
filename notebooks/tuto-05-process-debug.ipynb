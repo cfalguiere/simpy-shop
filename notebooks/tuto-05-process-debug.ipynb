{
 "cells": [
  {
   "cell_type": "code",
   "execution_count": 1,
   "id": "c379869b",
   "metadata": {},
   "outputs": [
    {
     "name": "stdout",
     "output_type": "stream",
     "text": [
      "Requirement already satisfied: simpy in /Users/cfalguiere/opt/anaconda3/envs/simpy/lib/python3.8/site-packages (4.0.1)\n",
      "Requirement already satisfied: pandas in /Users/cfalguiere/opt/anaconda3/envs/simpy/lib/python3.8/site-packages (1.3.3)\n",
      "Requirement already satisfied: plotly in /Users/cfalguiere/opt/anaconda3/envs/simpy/lib/python3.8/site-packages (5.3.1)\n",
      "Requirement already satisfied: numpy>=1.17.3 in /Users/cfalguiere/opt/anaconda3/envs/simpy/lib/python3.8/site-packages (from pandas) (1.21.2)\n",
      "Requirement already satisfied: python-dateutil>=2.7.3 in /Users/cfalguiere/opt/anaconda3/envs/simpy/lib/python3.8/site-packages (from pandas) (2.8.2)\n",
      "Requirement already satisfied: pytz>=2017.3 in /Users/cfalguiere/opt/anaconda3/envs/simpy/lib/python3.8/site-packages (from pandas) (2021.3)\n",
      "Requirement already satisfied: six>=1.5 in /Users/cfalguiere/opt/anaconda3/envs/simpy/lib/python3.8/site-packages (from python-dateutil>=2.7.3->pandas) (1.16.0)\n",
      "Requirement already satisfied: tenacity>=6.2.0 in /Users/cfalguiere/opt/anaconda3/envs/simpy/lib/python3.8/site-packages (from plotly) (8.0.1)\n"
     ]
    }
   ],
   "source": [
    "!pip install simpy pandas plotly"
   ]
  },
  {
   "cell_type": "markdown",
   "id": "7a61062e",
   "metadata": {},
   "source": [
    "### Goal\n",
    "- how to debug the process"
   ]
  },
  {
   "cell_type": "code",
   "execution_count": null,
   "id": "a43a6e60",
   "metadata": {},
   "outputs": [],
   "source": [
    "Last step we have seen that the monitoring show unexpected results. \n",
    "\n",
    "How can we feature out what is going on"
   ]
  },
  {
   "cell_type": "code",
   "execution_count": 2,
   "id": "c5649e9a",
   "metadata": {},
   "outputs": [],
   "source": [
    "from simpy import Environment, Process\n",
    "import pandas as pd"
   ]
  },
  {
   "cell_type": "code",
   "execution_count": 3,
   "id": "e482b33e",
   "metadata": {},
   "outputs": [],
   "source": [
    "class BasicProcessMonitor():  \n",
    "    def __init__(self):\n",
    "        self.data = []\n",
    "\n",
    "    def trace(self, event): \n",
    "        print(f'Called back from {event} at {event.env.now:2.1f}')\n",
    "        self.data.append({\n",
    "            'name':event.name, \n",
    "            'startAt':event.startAt, \n",
    "            'stopAt':event.env.now,\n",
    "            'duration':event.env.now - event.startAt + 1\n",
    "        })\n",
    "        \n",
    "    def collect(self):\n",
    "        return pd.DataFrame(self.data)"
   ]
  },
  {
   "cell_type": "code",
   "execution_count": 4,
   "id": "8054e126",
   "metadata": {},
   "outputs": [],
   "source": [
    "class MonitoredProcess(Process):  \n",
    "    def __init__(self, env, action, name):\n",
    "        super().__init__(env, action)\n",
    "        # make sure process has a name and a start mark\n",
    "        self.name = name\n",
    "        self.startAt = env.now\n",
    "\n",
    "class Visitor(MonitoredProcess):  \n",
    "    def __init__(self, env, name):\n",
    "        super().__init__(env, self.visit(), name)\n",
    "\n",
    "    def visit(self): \n",
    "        print(f\"{self.name}: Here I am at {self.env.now:2.1f}\") \n",
    "        duration = len(self.name)\n",
    "        yield env.timeout(duration)\n",
    "        print(f\"{self.name}: I must leave at {self.env.now:2.1f}\") "
   ]
  },
  {
   "cell_type": "code",
   "execution_count": 5,
   "id": "fecac41c",
   "metadata": {},
   "outputs": [],
   "source": [
    "class InfiniteVisitorSource(Process):  \n",
    "    def __init__(self, env):\n",
    "        super().__init__(env, self.generate())\n",
    "        self.count = 0\n",
    "        self.monitor = BasicProcessMonitor()\n",
    "\n",
    "    def generate(self): \n",
    "        while True:\n",
    "            yield self.env.timeout(1)\n",
    "            self.count += 1\n",
    "            name = f\"visitor-{self.count:03d}\"\n",
    "            print(f\"start {name} at {self.env.now:2.1f}\") \n",
    "            visitor = Visitor(self.env, name)\n",
    "            visitor.callbacks.append(self.monitor.trace)"
   ]
  },
  {
   "cell_type": "code",
   "execution_count": 6,
   "id": "ea21c5aa",
   "metadata": {},
   "outputs": [
    {
     "name": "stdout",
     "output_type": "stream",
     "text": [
      "start at 0\n",
      "start visitor-001 at 1.0\n",
      "visitor-001: Here I am at 1.0\n"
     ]
    },
    {
     "ename": "NameError",
     "evalue": "name 'visitor' is not defined",
     "output_type": "error",
     "traceback": [
      "\u001b[0;31m---------------------------------------------------------------------------\u001b[0m",
      "\u001b[0;31mNameError\u001b[0m                                 Traceback (most recent call last)",
      "\u001b[0;32m/var/folders/mz/jwctlgxx11bg34b_1wygb5br0000gp/T/ipykernel_11976/3725171261.py\u001b[0m in \u001b[0;36mgenerate\u001b[0;34m(self)\u001b[0m\n\u001b[1;32m     13\u001b[0m             \u001b[0mVisitor\u001b[0m\u001b[0;34m(\u001b[0m\u001b[0mself\u001b[0m\u001b[0;34m.\u001b[0m\u001b[0menv\u001b[0m\u001b[0;34m,\u001b[0m \u001b[0mname\u001b[0m\u001b[0;34m)\u001b[0m\u001b[0;34m\u001b[0m\u001b[0;34m\u001b[0m\u001b[0m\n\u001b[0;32m---> 14\u001b[0;31m             \u001b[0mvisitor\u001b[0m\u001b[0;34m.\u001b[0m\u001b[0mcallbacks\u001b[0m\u001b[0;34m.\u001b[0m\u001b[0mappend\u001b[0m\u001b[0;34m(\u001b[0m\u001b[0mself\u001b[0m\u001b[0;34m.\u001b[0m\u001b[0mmonitor\u001b[0m\u001b[0;34m.\u001b[0m\u001b[0mtrace\u001b[0m\u001b[0;34m)\u001b[0m\u001b[0;34m\u001b[0m\u001b[0;34m\u001b[0m\u001b[0m\n\u001b[0m",
      "\u001b[0;31mNameError\u001b[0m: name 'visitor' is not defined",
      "\nThe above exception was the direct cause of the following exception:\n",
      "\u001b[0;31mNameError\u001b[0m                                 Traceback (most recent call last)",
      "\u001b[0;32m/var/folders/mz/jwctlgxx11bg34b_1wygb5br0000gp/T/ipykernel_11976/1352420142.py\u001b[0m in \u001b[0;36m<module>\u001b[0;34m\u001b[0m\n\u001b[1;32m      3\u001b[0m \u001b[0msource\u001b[0m \u001b[0;34m=\u001b[0m \u001b[0mInfiniteVisitorSource\u001b[0m\u001b[0;34m(\u001b[0m\u001b[0menv\u001b[0m\u001b[0;34m)\u001b[0m\u001b[0;34m\u001b[0m\u001b[0;34m\u001b[0m\u001b[0m\n\u001b[1;32m      4\u001b[0m \u001b[0mprint\u001b[0m\u001b[0;34m(\u001b[0m\u001b[0;34mf'start at {env.now}'\u001b[0m\u001b[0;34m)\u001b[0m\u001b[0;34m\u001b[0m\u001b[0;34m\u001b[0m\u001b[0m\n\u001b[0;32m----> 5\u001b[0;31m \u001b[0menv\u001b[0m\u001b[0;34m.\u001b[0m\u001b[0mrun\u001b[0m\u001b[0;34m(\u001b[0m\u001b[0muntil\u001b[0m\u001b[0;34m=\u001b[0m\u001b[0msim_duration\u001b[0m\u001b[0;34m)\u001b[0m\u001b[0;34m\u001b[0m\u001b[0;34m\u001b[0m\u001b[0m\n\u001b[0m\u001b[1;32m      6\u001b[0m \u001b[0mprint\u001b[0m\u001b[0;34m(\u001b[0m\u001b[0;34mf'stop at {env.now}'\u001b[0m\u001b[0;34m)\u001b[0m\u001b[0;34m\u001b[0m\u001b[0;34m\u001b[0m\u001b[0m\n",
      "\u001b[0;32m~/opt/anaconda3/envs/simpy/lib/python3.8/site-packages/simpy/core.py\u001b[0m in \u001b[0;36mrun\u001b[0;34m(self, until)\u001b[0m\n\u001b[1;32m    252\u001b[0m         \u001b[0;32mtry\u001b[0m\u001b[0;34m:\u001b[0m\u001b[0;34m\u001b[0m\u001b[0;34m\u001b[0m\u001b[0m\n\u001b[1;32m    253\u001b[0m             \u001b[0;32mwhile\u001b[0m \u001b[0;32mTrue\u001b[0m\u001b[0;34m:\u001b[0m\u001b[0;34m\u001b[0m\u001b[0;34m\u001b[0m\u001b[0m\n\u001b[0;32m--> 254\u001b[0;31m                 \u001b[0mself\u001b[0m\u001b[0;34m.\u001b[0m\u001b[0mstep\u001b[0m\u001b[0;34m(\u001b[0m\u001b[0;34m)\u001b[0m\u001b[0;34m\u001b[0m\u001b[0;34m\u001b[0m\u001b[0m\n\u001b[0m\u001b[1;32m    255\u001b[0m         \u001b[0;32mexcept\u001b[0m \u001b[0mStopSimulation\u001b[0m \u001b[0;32mas\u001b[0m \u001b[0mexc\u001b[0m\u001b[0;34m:\u001b[0m\u001b[0;34m\u001b[0m\u001b[0;34m\u001b[0m\u001b[0m\n\u001b[1;32m    256\u001b[0m             \u001b[0;32mreturn\u001b[0m \u001b[0mexc\u001b[0m\u001b[0;34m.\u001b[0m\u001b[0margs\u001b[0m\u001b[0;34m[\u001b[0m\u001b[0;36m0\u001b[0m\u001b[0;34m]\u001b[0m  \u001b[0;31m# == until.value\u001b[0m\u001b[0;34m\u001b[0m\u001b[0;34m\u001b[0m\u001b[0m\n",
      "\u001b[0;32m~/opt/anaconda3/envs/simpy/lib/python3.8/site-packages/simpy/core.py\u001b[0m in \u001b[0;36mstep\u001b[0;34m(self)\u001b[0m\n\u001b[1;32m    204\u001b[0m             \u001b[0mexc\u001b[0m \u001b[0;34m=\u001b[0m \u001b[0mtype\u001b[0m\u001b[0;34m(\u001b[0m\u001b[0mevent\u001b[0m\u001b[0;34m.\u001b[0m\u001b[0m_value\u001b[0m\u001b[0;34m)\u001b[0m\u001b[0;34m(\u001b[0m\u001b[0;34m*\u001b[0m\u001b[0mevent\u001b[0m\u001b[0;34m.\u001b[0m\u001b[0m_value\u001b[0m\u001b[0;34m.\u001b[0m\u001b[0margs\u001b[0m\u001b[0;34m)\u001b[0m\u001b[0;34m\u001b[0m\u001b[0;34m\u001b[0m\u001b[0m\n\u001b[1;32m    205\u001b[0m             \u001b[0mexc\u001b[0m\u001b[0;34m.\u001b[0m\u001b[0m__cause__\u001b[0m \u001b[0;34m=\u001b[0m \u001b[0mevent\u001b[0m\u001b[0;34m.\u001b[0m\u001b[0m_value\u001b[0m\u001b[0;34m\u001b[0m\u001b[0;34m\u001b[0m\u001b[0m\n\u001b[0;32m--> 206\u001b[0;31m             \u001b[0;32mraise\u001b[0m \u001b[0mexc\u001b[0m\u001b[0;34m\u001b[0m\u001b[0;34m\u001b[0m\u001b[0m\n\u001b[0m\u001b[1;32m    207\u001b[0m \u001b[0;34m\u001b[0m\u001b[0m\n\u001b[1;32m    208\u001b[0m     def run(\n",
      "\u001b[0;31mNameError\u001b[0m: name 'visitor' is not defined"
     ]
    }
   ],
   "source": [
    "sim_duration = 15\n",
    "env = Environment()\n",
    "source = InfiniteVisitorSource(env)\n",
    "print(f'start at {env.now}')\n",
    "env.run(until=sim_duration)\n",
    "print(f'stop at {env.now}')"
   ]
  },
  {
   "cell_type": "code",
   "execution_count": null,
   "id": "17df76e2",
   "metadata": {},
   "outputs": [],
   "source": [
    "df_visitors = source.monitor.collect()\n",
    "display(df_visitors)"
   ]
  },
  {
   "cell_type": "code",
   "execution_count": null,
   "id": "f82d2817",
   "metadata": {},
   "outputs": [],
   "source": [
    "import plotly.express as px\n",
    "fig = px.histogram(df_visitors, x=\"startAt\", nbins=20)\n",
    "fig.show()"
   ]
  },
  {
   "cell_type": "code",
   "execution_count": null,
   "id": "8fc64b20",
   "metadata": {},
   "outputs": [],
   "source": [
    "df_visitors[[\"duration\"]].describe()"
   ]
  },
  {
   "cell_type": "code",
   "execution_count": null,
   "id": "b19b9596",
   "metadata": {},
   "outputs": [],
   "source": [
    "import plotly.express as px\n",
    "fig = px.histogram(df_visitors, x=\"duration\", nbins=20)\n",
    "fig.show()"
   ]
  },
  {
   "cell_type": "markdown",
   "id": "ce7c0d81",
   "metadata": {},
   "source": [
    "TODO chronogram"
   ]
  },
  {
   "cell_type": "markdown",
   "id": "9b915fcc",
   "metadata": {},
   "source": [
    "More interedting visitor"
   ]
  },
  {
   "cell_type": "markdown",
   "id": "f7a0be41",
   "metadata": {},
   "source": [
    "hole -> not completedd"
   ]
  },
  {
   "cell_type": "markdown",
   "id": "c1066487",
   "metadata": {},
   "source": [
    "TODO chronogram -> clock\n",
    "\n",
    "TODO logger -> show messageqs only when needed for debug\n",
    "\n",
    "TODO fail / success + renege / multiple yield"
   ]
  },
  {
   "cell_type": "code",
   "execution_count": null,
   "id": "09258a79",
   "metadata": {},
   "outputs": [],
   "source": [
    "# new imports\n",
    "import logging\n"
   ]
  },
  {
   "cell_type": "code",
   "execution_count": null,
   "id": "f7f15615",
   "metadata": {},
   "outputs": [],
   "source": [
    "log_filename = \"logs-5.log\"\n",
    "mainLogger = logging.getLogger()\n",
    "mainLogger = logging.getLogger()\n",
    "fhandler = logging.FileHandler(filename=log_filename, mode='w')\n",
    "formatter = logging.Formatter('%(asctime)s - %(name)s - %(levelname)s - %(message)s')\n",
    "fhandler.setFormatter(formatter)\n",
    "mainLogger.addHandler(fhandler)\n",
    "mainLogger.setLevel(logging.DEBUG)\n",
    "mainLogger.debug(\"test\")"
   ]
  },
  {
   "cell_type": "markdown",
   "id": "f8c09e37",
   "metadata": {},
   "source": [
    "# Logs"
   ]
  },
  {
   "cell_type": "code",
   "execution_count": null,
   "id": "4299c731",
   "metadata": {},
   "outputs": [],
   "source": [
    "with open(log_filename) as log:\n",
    "            print(log.read())"
   ]
  }
 ],
 "metadata": {
  "kernelspec": {
   "display_name": "Python 3 (ipykernel)",
   "language": "python",
   "name": "python3"
  },
  "language_info": {
   "codemirror_mode": {
    "name": "ipython",
    "version": 3
   },
   "file_extension": ".py",
   "mimetype": "text/x-python",
   "name": "python",
   "nbconvert_exporter": "python",
   "pygments_lexer": "ipython3",
   "version": "3.8.11"
  }
 },
 "nbformat": 4,
 "nbformat_minor": 5
}
