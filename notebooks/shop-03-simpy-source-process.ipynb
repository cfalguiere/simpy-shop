{
 "cells": [
  {
   "cell_type": "code",
   "execution_count": 11,
   "id": "c379869b",
   "metadata": {},
   "outputs": [
    {
     "name": "stdout",
     "output_type": "stream",
     "text": [
      "Requirement already satisfied: simpy in /Users/cfalguiere/opt/anaconda3/envs/simpy/lib/python3.8/site-packages (4.0.1)\r\n"
     ]
    }
   ],
   "source": [
    "!pip install simpy"
   ]
  },
  {
   "cell_type": "markdown",
   "id": "7a61062e",
   "metadata": {},
   "source": [
    "### Goal\n",
    "- feature out Simpy events, process and timeout"
   ]
  },
  {
   "cell_type": "code",
   "execution_count": 1,
   "id": "7632b7c6",
   "metadata": {},
   "outputs": [],
   "source": [
    "from simpy import Environment, Process"
   ]
  },
  {
   "cell_type": "code",
   "execution_count": 5,
   "id": "a3e4abff",
   "metadata": {},
   "outputs": [],
   "source": [
    "class Visitor(Process):  \n",
    "    def __init__(self, env, name):\n",
    "        super().__init__(env, self.visit())\n",
    "        self.name = name\n",
    "\n",
    "    def visit(self): \n",
    "        print(f\"{self.name}: Here I am at {self.env.now:2.1f}\") \n",
    "        duration = len(self.name)\n",
    "        yield env.timeout(duration)\n",
    "        print(f\"{self.name}: I must leave at {self.env.now:2.1f}\") "
   ]
  },
  {
   "cell_type": "code",
   "execution_count": 17,
   "id": "babfbaa2",
   "metadata": {},
   "outputs": [],
   "source": [
    "class VisitorSource(Process):  \n",
    "    def __init__(self, env, names):\n",
    "        super().__init__(env, self.schedule())\n",
    "        self.names = names\n",
    "\n",
    "    def schedule(self): \n",
    "        for name in self.names:\n",
    "            yield env.timeout(1)\n",
    "            print(f\"start {name} at {self.env.now:2.1f}\") \n",
    "            Visitor(self.env, name)"
   ]
  },
  {
   "cell_type": "code",
   "execution_count": 18,
   "id": "fe05ea9c",
   "metadata": {},
   "outputs": [
    {
     "name": "stdout",
     "output_type": "stream",
     "text": [
      "start at 0\n",
      "start Alice at 1.0\n",
      "Alice: Here I am at 1.0\n",
      "start Bob at 2.0\n",
      "Bob: Here I am at 2.0\n",
      "Bob: I must leave at 5.0\n",
      "Alice: I must leave at 6.0\n",
      "stop at 10\n"
     ]
    }
   ],
   "source": [
    "sim_duration = 10\n",
    "env = Environment()\n",
    "source = VisitorSource(env, [\"Alice\", \"Bob\"])\n",
    "print(f'start at {env.now}')\n",
    "env.run(until=sim_duration)\n",
    "print(f'stop at {env.now}')"
   ]
  },
  {
   "cell_type": "markdown",
   "id": "a1fe7c3b",
   "metadata": {},
   "source": [
    "please note that visitor whow once and leave"
   ]
  },
  {
   "cell_type": "markdown",
   "id": "bae33791",
   "metadata": {},
   "source": [
    "events.Event\n",
    "|\n",
    "+— events.Timeout\n",
    "|\n",
    "+— events.Initialize\n",
    "|\n",
    "+— events.Process\n",
    "|\n",
    "+— events.Condition\n",
    "|  |\n",
    "|  +— events.AllOf\n",
    "|  |\n",
    "|  +— events.AnyOf\n",
    ".\n",
    "."
   ]
  },
  {
   "cell_type": "markdown",
   "id": "36bd4b45",
   "metadata": {},
   "source": [
    "generator is an iterator, but it easier to write (example with __iter__ and __next__)\n",
    "as it is an iterator ou may user next\n"
   ]
  },
  {
   "cell_type": "markdown",
   "id": "c8fc6eeb",
   "metadata": {},
   "source": [
    "now add a callback\n",
    "never -processed but automaticaly triggered"
   ]
  },
  {
   "cell_type": "markdown",
   "id": "9c51105e",
   "metadata": {},
   "source": [
    "run sim until event occur"
   ]
  },
  {
   "cell_type": "code",
   "execution_count": 17,
   "id": "883e1084",
   "metadata": {},
   "outputs": [
    {
     "name": "stdout",
     "output_type": "stream",
     "text": [
      "Alice: Here I am at 0.0\n",
      "Alice: I must leave at 5.0\n",
      "Called back from <Visitor(visit) object at 0x1082dca30>\n",
      "<Visitor(visit) object at 0x1082dca30>\n",
      "now 5\n",
      "timeout <Visitor(visit) object at 0x1082dca30>\n",
      "timeout value None\n",
      "triggered True\n",
      "processed True\n",
      "stop at 5\n"
     ]
    }
   ],
   "source": [
    "def my_callback(timeout):\n",
    "    print(f'Called back from {timeout}')\n",
    "    print(timeout)\n",
    "    print(f\"now {timeout.env.now}\")\n",
    "    print(f\"timeout {timeout}\")\n",
    "    print(f\"timeout value {timeout.value}\")\n",
    "    print(f\"triggered {timeout.triggered}\")\n",
    "    print(f\"processed {timeout.processed}\")\n",
    "\n",
    "env = Environment()\n",
    "visited = Visitor(env, \"Alice\")\n",
    "visited.callbacks.append(my_callback)\n",
    "env.run(until=visited)\n",
    "print(f'stop at {env.now}')"
   ]
  },
  {
   "cell_type": "markdown",
   "id": "a93335e3",
   "metadata": {},
   "source": [
    "until n stands for until timeout(n)\n",
    "stops when the process is done"
   ]
  },
  {
   "cell_type": "markdown",
   "id": "b93e79d2",
   "metadata": {},
   "source": [
    "until expect any event or condition"
   ]
  },
  {
   "cell_type": "markdown",
   "id": "123b047c",
   "metadata": {},
   "source": [
    "run sim until event occur\n",
    "event.succeed\n",
    "happy with visits\n",
    "\n",
    "condition and multiple condition"
   ]
  },
  {
   "cell_type": "code",
   "execution_count": 25,
   "id": "8054e126",
   "metadata": {},
   "outputs": [],
   "source": [
    "class Visitor(Process):  \n",
    "    def __init__(self, env, name):\n",
    "        super().__init__(env, self.visit())\n",
    "        self.name = name\n",
    "        self.startAt = env.now\n",
    "\n",
    "    def visit(self): \n",
    "        print(f\"{self.name}: Here I am at {self.env.now:2.1f}\") \n",
    "        duration = len(self.name)\n",
    "        yield env.timeout(duration)\n",
    "        print(f\"{self.name}: I must leave at {self.env.now:2.1f}\") "
   ]
  },
  {
   "cell_type": "code",
   "execution_count": 35,
   "id": "e482b33e",
   "metadata": {},
   "outputs": [],
   "source": [
    "class VisitorMonitor():  \n",
    "    def __init__(self):\n",
    "        self.data = []\n",
    "\n",
    "    def trace(self, event): \n",
    "        print(f'Called back from {event} at {event.env.now:2.1f}')\n",
    "        self.data.append({\n",
    "            'name':event.name, \n",
    "            'startAt':event.startAt, \n",
    "            'stopAt':event.env.now \n",
    "        })\n",
    "        \n",
    "    def collect(self):\n",
    "        return self.data"
   ]
  },
  {
   "cell_type": "code",
   "execution_count": 33,
   "id": "7897c7c2",
   "metadata": {},
   "outputs": [],
   "source": [
    "class VisitorSource(Process):  \n",
    "    def __init__(self, env, names):\n",
    "        super().__init__(env, self.schedule())\n",
    "        self.names = names\n",
    "        self.monitor = VisitorMonitor()\n",
    "\n",
    "    def schedule(self): \n",
    "        for name in self.names:\n",
    "            yield env.timeout(1)\n",
    "            print(f\"start {name} at {self.env.now:2.1f}\") \n",
    "            visitor = Visitor(self.env, name)\n",
    "            visitor.callbacks.append(self.monitor.trace)"
   ]
  },
  {
   "cell_type": "code",
   "execution_count": 36,
   "id": "ea21c5aa",
   "metadata": {},
   "outputs": [
    {
     "name": "stdout",
     "output_type": "stream",
     "text": [
      "start at 0\n",
      "start Alice at 1.0\n",
      "Alice: Here I am at 1.0\n",
      "start Bob at 2.0\n",
      "Bob: Here I am at 2.0\n",
      "Bob: I must leave at 5.0\n",
      "Called back from <Visitor(visit) object at 0x111ca5520> at 5.0\n",
      "Alice: I must leave at 6.0\n",
      "Called back from <Visitor(visit) object at 0x111ca5be0> at 6.0\n",
      "stop at 10\n"
     ]
    },
    {
     "data": {
      "text/plain": [
       "[{'name': 'Bob', 'startAt': 2, 'stopAt': 5},\n",
       " {'name': 'Alice', 'startAt': 1, 'stopAt': 6}]"
      ]
     },
     "metadata": {},
     "output_type": "display_data"
    }
   ],
   "source": [
    "sim_duration = 10\n",
    "env = Environment()\n",
    "source = VisitorSource(env, [\"Alice\", \"Bob\"])\n",
    "print(f'start at {env.now}')\n",
    "env.run(until=sim_duration)\n",
    "print(f'stop at {env.now}')\n",
    "display(source.monitor.collect())"
   ]
  },
  {
   "cell_type": "code",
   "execution_count": null,
   "id": "17df76e2",
   "metadata": {},
   "outputs": [],
   "source": []
  }
 ],
 "metadata": {
  "kernelspec": {
   "display_name": "Python 3 (ipykernel)",
   "language": "python",
   "name": "python3"
  },
  "language_info": {
   "codemirror_mode": {
    "name": "ipython",
    "version": 3
   },
   "file_extension": ".py",
   "mimetype": "text/x-python",
   "name": "python",
   "nbconvert_exporter": "python",
   "pygments_lexer": "ipython3",
   "version": "3.8.11"
  }
 },
 "nbformat": 4,
 "nbformat_minor": 5
}
