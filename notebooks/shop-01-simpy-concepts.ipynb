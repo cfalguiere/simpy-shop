{
 "cells": [
  {
   "cell_type": "code",
   "execution_count": 1,
   "id": "c379869b",
   "metadata": {},
   "outputs": [
    {
     "name": "stdout",
     "output_type": "stream",
     "text": [
      "Requirement already satisfied: simpy in /Users/cfalguiere/opt/anaconda3/envs/simpy/lib/python3.8/site-packages (4.0.1)\r\n"
     ]
    }
   ],
   "source": [
    "!pip install simpy"
   ]
  },
  {
   "cell_type": "markdown",
   "id": "7a61062e",
   "metadata": {},
   "source": [
    "### Goal\n",
    "- feature out Simpy concepts"
   ]
  },
  {
   "cell_type": "markdown",
   "id": "edc7c1b7",
   "metadata": {},
   "source": [
    "most basic simulation"
   ]
  },
  {
   "cell_type": "code",
   "execution_count": 3,
   "id": "be395390",
   "metadata": {},
   "outputs": [],
   "source": [
    "from simpy import Environment"
   ]
  },
  {
   "cell_type": "code",
   "execution_count": 4,
   "id": "6fbae881",
   "metadata": {},
   "outputs": [
    {
     "name": "stdout",
     "output_type": "stream",
     "text": [
      "start at 0\n",
      "stop at 5\n"
     ]
    }
   ],
   "source": [
    "sim_duration = 5\n",
    "env = Environment()\n",
    "print(f'start at {env.now}')\n",
    "env.run(until=sim_duration)\n",
    "print(f'stop at {env.now}')"
   ]
  },
  {
   "cell_type": "markdown",
   "id": "6548fd01",
   "metadata": {},
   "source": [
    "you need a process\n",
    "in this process customer waits for 2 "
   ]
  },
  {
   "cell_type": "code",
   "execution_count": 5,
   "id": "d36d2c05",
   "metadata": {},
   "outputs": [],
   "source": [
    "from simpy import Environment, Process"
   ]
  },
  {
   "cell_type": "code",
   "execution_count": 20,
   "id": "a3e4abff",
   "metadata": {},
   "outputs": [],
   "source": [
    "class Visitor(Process):  \n",
    "    def __init__(self, env):\n",
    "        super().__init__(env, self.visit())\n",
    "\n",
    "    def visit(self): \n",
    "        print(\"Here I am at %2.1f\" % self.env.now) \n",
    "        duration = 2\n",
    "        yield env.timeout(duration)\n",
    "        print(\"I must leave at %2.1f\" % self.env.now) "
   ]
  },
  {
   "cell_type": "code",
   "execution_count": 23,
   "id": "fe05ea9c",
   "metadata": {},
   "outputs": [
    {
     "name": "stdout",
     "output_type": "stream",
     "text": [
      "start at 0\n",
      "Here I am at 0.0\n",
      "I must leave at 2.0\n",
      "stop at 5\n"
     ]
    }
   ],
   "source": [
    "sim_duration = 5\n",
    "env = Environment()\n",
    "Visitor(env)\n",
    "print(f'start at {env.now}')\n",
    "env.run(until=sim_duration)\n",
    "print(f'stop at {env.now}')"
   ]
  },
  {
   "cell_type": "markdown",
   "id": "a1fe7c3b",
   "metadata": {},
   "source": [
    "please note that visitor whow once and leave"
   ]
  },
  {
   "cell_type": "markdown",
   "id": "271a17b7",
   "metadata": {},
   "source": [
    "what is yield ?\n",
    "python keyword for the result of a generator"
   ]
  },
  {
   "cell_type": "code",
   "execution_count": 10,
   "id": "7fe88021",
   "metadata": {},
   "outputs": [],
   "source": [
    "def sequence_generator(max): \n",
    "    n = 0\n",
    "    while n < max:\n",
    "        yield n \n",
    "        n += 1"
   ]
  },
  {
   "cell_type": "code",
   "execution_count": 11,
   "id": "d83c6f4d",
   "metadata": {},
   "outputs": [
    {
     "name": "stdout",
     "output_type": "stream",
     "text": [
      "0\n",
      "1\n",
      "2\n",
      "3\n",
      "4\n"
     ]
    }
   ],
   "source": [
    "for c in sequence_generator(5):\n",
    "    print(c)"
   ]
  },
  {
   "cell_type": "code",
   "execution_count": 12,
   "id": "1bbfa840",
   "metadata": {},
   "outputs": [
    {
     "name": "stdout",
     "output_type": "stream",
     "text": [
      "45\n"
     ]
    }
   ],
   "source": [
    "sum_n = sum(sequence_generator(10))\n",
    "print(sum_n)"
   ]
  },
  {
   "cell_type": "code",
   "execution_count": 15,
   "id": "c88f38e0",
   "metadata": {},
   "outputs": [],
   "source": [
    "def infinite_sequence_generator():\n",
    "    n = 0\n",
    "    while True:\n",
    "        yield n\n",
    "        n += 1"
   ]
  },
  {
   "cell_type": "code",
   "execution_count": 19,
   "id": "9107b063",
   "metadata": {},
   "outputs": [
    {
     "name": "stdout",
     "output_type": "stream",
     "text": [
      "0\n",
      "1\n",
      "2\n",
      "3\n",
      "4\n",
      "5\n",
      "6\n",
      "7\n",
      "8\n",
      "9\n"
     ]
    }
   ],
   "source": [
    "seq = infinite_sequence_generator()\n",
    "for c in range(0,10):\n",
    "    print(next(seq))"
   ]
  },
  {
   "cell_type": "markdown",
   "id": "bae33791",
   "metadata": {},
   "source": [
    "events.Event\n",
    "|\n",
    "+— events.Timeout\n",
    "|\n",
    "+— events.Initialize\n",
    "|\n",
    "+— events.Process\n",
    "|\n",
    "+— events.Condition\n",
    "|  |\n",
    "|  +— events.AllOf\n",
    "|  |\n",
    "|  +— events.AnyOf\n",
    ".\n",
    "."
   ]
  },
  {
   "cell_type": "code",
   "execution_count": 24,
   "id": "188c03cd",
   "metadata": {},
   "outputs": [
    {
     "name": "stdout",
     "output_type": "stream",
     "text": [
      "start at 0\n",
      "Here I am at 0.0\n",
      "I must leave at 2.0\n",
      "stop at 2\n"
     ]
    }
   ],
   "source": [
    "sim_duration = 5\n",
    "env = Environment()\n",
    "visited = Visitor(env)\n",
    "print(f'start at {env.now}')\n",
    "env.run(until=visited)\n",
    "print(f'stop at {env.now}')"
   ]
  },
  {
   "cell_type": "code",
   "execution_count": null,
   "id": "eb86f6d2",
   "metadata": {},
   "outputs": [],
   "source": [
    "stops when the process is done\n",
    "until expect any envent or condition\n",
    "until n stands for until timeout(n)"
   ]
  },
  {
   "cell_type": "code",
   "execution_count": null,
   "id": "ed56f1b6",
   "metadata": {},
   "outputs": [],
   "source": [
    "run sim until event occur\n",
    "event.succeed\n",
    "happy with visits\n",
    "\n",
    "condition and multiple condition"
   ]
  },
  {
   "cell_type": "code",
   "execution_count": null,
   "id": "14ecc72b",
   "metadata": {},
   "outputs": [],
   "source": [
    ">>> import simpy\n",
    ">>>\n",
    ">>> def my_callback(event):\n",
    "...     print('Called back from', event)\n",
    "...\n",
    ">>> env = simpy.Environment()\n",
    ">>> event = env.event()\n",
    ">>> event.callbacks.append(my_callback)\n",
    ">>> event.callbacks\n",
    "[<function my_callback at 0x...>]\n"
   ]
  },
  {
   "cell_type": "code",
   "execution_count": null,
   "id": "2e13d8e6",
   "metadata": {},
   "outputs": [],
   "source": [
    "class MeetingCustomer(Process):  \n",
    "    def __init__(self, env):\n",
    "        super().__init__(env, self.meet())\n",
    "\n",
    "    def meet(self): \n",
    "        print(\"Here I am at %2.1f\" % self.env.now) \n",
    "        at = 2\n",
    "        yield env.event(duration)\n",
    "        print(\"I must leave at %2.1f\" % self.env.now) "
   ]
  },
  {
   "cell_type": "code",
   "execution_count": null,
   "id": "260f2ac6",
   "metadata": {},
   "outputs": [],
   "source": [
    "process might wait for a certain amount of time (timeout)\n",
    "or until a ppint in the simulation"
   ]
  },
  {
   "cell_type": "code",
   "execution_count": null,
   "id": "9b6b3564",
   "metadata": {},
   "outputs": [],
   "source": [
    "from simpy import Process, Environment"
   ]
  },
  {
   "cell_type": "code",
   "execution_count": null,
   "id": "1482c849",
   "metadata": {},
   "outputs": [],
   "source": [
    "# Model components -----------------------------\n",
    "\n",
    "\n",
    "class Customer(Process):  # 3\n",
    "    \"\"\" Customer arrives, looks around and leaves \"\"\"\n",
    "    def __init__(self, env):\n",
    "        super().__init__(env, self.visit(timeInBank))\n",
    "        self.name=\"C\"\n",
    "\n",
    "    def visit(self, timeInBank):  # 4\n",
    "        print(\"%2.1f %s  Here I am\" % (self.env.now, self.name))  # 5\n",
    "        yield hold, self, timeInBank  # 6\n",
    "        print(\"%2.1f %s  I must leave\" % (self.env.now, self.name))  # 7"
   ]
  },
  {
   "cell_type": "code",
   "execution_count": null,
   "id": "9d39507c",
   "metadata": {},
   "outputs": [],
   "source": [
    "# Experiment data ------------------------------\n",
    "\n",
    "\n",
    "maxTime = 100.0     # minutes #8\n",
    "timeInBank = 10.0   # minutes"
   ]
  },
  {
   "cell_type": "code",
   "execution_count": null,
   "id": "924dec31",
   "metadata": {},
   "outputs": [],
   "source": [
    "class World:\n",
    "    \n",
    "    def __init__(self, nb_customers=20, resource_capacity=5):\n",
    "        self.env = Environment()\n",
    "        c = Customer(self.env) \n",
    "        \n",
    "    def start(self, sim_duration = 20):\n",
    "        self.env.run(until=sim_duration)"
   ]
  },
  {
   "cell_type": "code",
   "execution_count": null,
   "id": "edc4c966",
   "metadata": {},
   "outputs": [],
   "source": [
    "world = World(nb_customers = 30,\n",
    "              resource_capacity = 5 )"
   ]
  },
  {
   "cell_type": "code",
   "execution_count": null,
   "id": "9c73f089",
   "metadata": {},
   "outputs": [],
   "source": [
    "world.start(sim_duration = 100)"
   ]
  },
  {
   "cell_type": "code",
   "execution_count": null,
   "id": "e482b33e",
   "metadata": {},
   "outputs": [],
   "source": []
  }
 ],
 "metadata": {
  "kernelspec": {
   "display_name": "Python 3 (ipykernel)",
   "language": "python",
   "name": "python3"
  },
  "language_info": {
   "codemirror_mode": {
    "name": "ipython",
    "version": 3
   },
   "file_extension": ".py",
   "mimetype": "text/x-python",
   "name": "python",
   "nbconvert_exporter": "python",
   "pygments_lexer": "ipython3",
   "version": "3.8.11"
  }
 },
 "nbformat": 4,
 "nbformat_minor": 5
}
