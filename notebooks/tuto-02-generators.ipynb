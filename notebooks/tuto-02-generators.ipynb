{
 "cells": [
  {
   "cell_type": "markdown",
   "id": "cc908017",
   "metadata": {},
   "source": [
    "# How does simpy use generators ?"
   ]
  },
  {
   "cell_type": "markdown",
   "id": "e659125c",
   "metadata": {},
   "source": [
    "Remember the Process we wrote in the basic Simpy example.\n",
    "\n",
    "The process uses yield to wait for the end of the visit"
   ]
  },
  {
   "cell_type": "code",
   "execution_count": 1,
   "id": "d66005c1",
   "metadata": {},
   "outputs": [],
   "source": [
    "from simpy import Environment, Process\n",
    "class Visitor(Process):  \n",
    "    def __init__(self, env):\n",
    "        super().__init__(env, self.visit())\n",
    "\n",
    "    def visit(self): \n",
    "        print(\"Here I am at %2.1f\" % self.env.now) \n",
    "        duration = 2\n",
    "        yield env.timeout(duration)\n",
    "        print(\"I must leave at %2.1f\" % self.env.now) "
   ]
  },
  {
   "cell_type": "markdown",
   "id": "9f2b30e9",
   "metadata": {},
   "source": [
    "What is this yield keyword ?\n",
    "\n",
    "yield is the keywork Python uses to create generators.\n",
    "\n",
    "A generator is an handy way to build an iterator.\n",
    "\n",
    "Well, what is an iterator ?"
   ]
  },
  {
   "cell_type": "markdown",
   "id": "2c72a305",
   "metadata": {},
   "source": [
    "## What is an iterator ?"
   ]
  },
  {
   "cell_type": "markdown",
   "id": "9d228a24",
   "metadata": {},
   "source": [
    "You actually used iterators before.\n",
    "\n",
    "For instance, you may go through a list using an iterator. \n",
    "In the following case, for will ask an iterator from words\n",
    "and iterate over"
   ]
  },
  {
   "cell_type": "code",
   "execution_count": 2,
   "id": "42238fae",
   "metadata": {},
   "outputs": [
    {
     "name": "stdout",
     "output_type": "stream",
     "text": [
      "Apple\n",
      "Orange\n",
      "Banana\n"
     ]
    }
   ],
   "source": [
    "fruits = [ \"Apple\", \"Orange\", \"Banana\"]\n",
    "for word in fruits:\n",
    "    print(word)"
   ]
  },
  {
   "cell_type": "markdown",
   "id": "cd7fbe70",
   "metadata": {},
   "source": [
    "One of the beauties of iterators is that I do not need to know the internals of the collection.\n",
    "\n",
    "For instance, I may iterate over a set of words with the same implementation."
   ]
  },
  {
   "cell_type": "code",
   "execution_count": 3,
   "id": "f08f7e9e",
   "metadata": {},
   "outputs": [
    {
     "name": "stdout",
     "output_type": "stream",
     "text": [
      "Apple\n",
      "Orange\n",
      "Banana\n"
     ]
    }
   ],
   "source": [
    "fruits_set = ( \"Apple\", \"Orange\", \"Banana\" )\n",
    "for word in fruits_set:\n",
    "    print(word)"
   ]
  },
  {
   "cell_type": "markdown",
   "id": "8b8e915e",
   "metadata": {},
   "source": [
    "Iterators are often used with numbers."
   ]
  },
  {
   "cell_type": "code",
   "execution_count": 4,
   "id": "653b5da5",
   "metadata": {},
   "outputs": [
    {
     "name": "stdout",
     "output_type": "stream",
     "text": [
      "1\n",
      "2\n",
      "3\n",
      "4\n",
      "sum 10\n"
     ]
    }
   ],
   "source": [
    "numbers = [ 1, 2, 3, 4 ]\n",
    "for number in numbers:\n",
    "    print(number)\n",
    "\n",
    "sum_numbers = sum(numbers)\n",
    "print(f\"sum {sum_numbers}\")"
   ]
  },
  {
   "cell_type": "markdown",
   "id": "99362116",
   "metadata": {},
   "source": [
    "Itertools defines a bunch of iterators for common purposes.\n",
    "\n",
    "https://docs.python.org/3/library/itertools.html"
   ]
  },
  {
   "cell_type": "markdown",
   "id": "01786e17",
   "metadata": {},
   "source": [
    "For instance repeat yield an list of the same number."
   ]
  },
  {
   "cell_type": "code",
   "execution_count": 5,
   "id": "24e0e838",
   "metadata": {},
   "outputs": [
    {
     "name": "stdout",
     "output_type": "stream",
     "text": [
      "10\n",
      "10\n",
      "10\n"
     ]
    }
   ],
   "source": [
    "from itertools import repeat\n",
    "for number in repeat(10, 3) :\n",
    "    print(number)"
   ]
  },
  {
   "cell_type": "markdown",
   "id": "e43fac4f",
   "metadata": {},
   "source": [
    "Some iterators are infinite. \n",
    "\n",
    "For instance, count generate number starting from start and incremented by step.\n",
    "\n",
    "Say we want to generate oddf numbers. As the list is infinite for will loop forever.\n",
    "Instead we will read the iterator one by one using next."
   ]
  },
  {
   "cell_type": "code",
   "execution_count": 6,
   "id": "5346b72a",
   "metadata": {},
   "outputs": [
    {
     "name": "stdout",
     "output_type": "stream",
     "text": [
      "1\n",
      "3\n",
      "5\n"
     ]
    }
   ],
   "source": [
    "from itertools import count\n",
    "odd_number = count(1,2)\n",
    "print(next(odd_number))\n",
    "print(next(odd_number))\n",
    "print(next(odd_number))"
   ]
  },
  {
   "cell_type": "markdown",
   "id": "7a340412",
   "metadata": {},
   "source": [
    "## How does an iterator work ?"
   ]
  },
  {
   "cell_type": "markdown",
   "id": "a9a332ca",
   "metadata": {},
   "source": [
    "Internally, the for mecanism thqt goes throug the list is similar to the code snippet below. \n",
    "\n",
    "The for expression creates an iterator and call next to get each value until there is no more value to read. \n",
    "When the all fruits have been drained the list object raise an exception StopIteration. As a result for stops iterating over the list."
   ]
  },
  {
   "cell_type": "code",
   "execution_count": 7,
   "id": "a263707a",
   "metadata": {},
   "outputs": [
    {
     "name": "stdout",
     "output_type": "stream",
     "text": [
      "Apple\n",
      "Orange\n",
      "Banana\n",
      "Unexpected error: <class 'StopIteration'>\n"
     ]
    }
   ],
   "source": [
    "import sys\n",
    "words = [ \"Apple\", \"Orange\", \"Banana\"]\n",
    "words_iterator = iter(words)\n",
    "try:\n",
    "    print(next(words_iterator))\n",
    "    print(next(words_iterator))\n",
    "    print(next(words_iterator))\n",
    "    print(next(words_iterator))\n",
    "except StopIteration as e:\n",
    "    print(\"Unexpected error:\", sys.exc_info()[0])"
   ]
  },
  {
   "cell_type": "markdown",
   "id": "9295963d",
   "metadata": {},
   "source": [
    "## How to write an iterator ?"
   ]
  },
  {
   "cell_type": "markdown",
   "id": "1d82246d",
   "metadata": {},
   "source": [
    "What does it requires ?\n",
    "\n",
    "Say I want to create a Fruit Basket and iterate over."
   ]
  },
  {
   "cell_type": "code",
   "execution_count": 16,
   "id": "cb0ef6dc",
   "metadata": {},
   "outputs": [
    {
     "name": "stdout",
     "output_type": "stream",
     "text": [
      "Error: (<class 'TypeError'>, TypeError(\"'FruitBasket' object is not iterable\"), <traceback object at 0x106084880>)\n"
     ]
    }
   ],
   "source": [
    "class FruitBasket:\n",
    "    def __init__(self):\n",
    "        self.fruits = [ \"Apple\", \"Orange\", \"Banana\"]\n",
    "\n",
    "basket = FruitBasket()\n",
    "try:\n",
    "    for fruit in basket:\n",
    "        print(fruit)\n",
    "except:\n",
    "    print(\"Error:\", sys.exc_info())"
   ]
  },
  {
   "cell_type": "markdown",
   "id": "3dbdd284",
   "metadata": {},
   "source": [
    "It complains about FruitBasket not being iterable.\n",
    "\n",
    "Hmmm, what does it mean to be iterable ?\n",
    "\n",
    "Let us refactor this a bit in order to be iterable.\n",
    "\n",
    "First iterable defines a behavior. It tells that you can loop over the object. There are basically two ways of looping over the pbject\n",
    "- provide a mean to get the element at a given index and implement __getitem__\n",
    "- or provide an iteerator and implement __iter__\n",
    "\n",
    "As we define iterable partly in terms or iterator, what is an iterator ?\n",
    "\n",
    "An iterator allow to loop over the elements without the need of an index. Instead, it provides a way to get the next element and implement a method __next__. As a consequence, an iterator must maintain the state of the loop by itself.\n",
    "\n",
    "By the way, methods named with enclosing __ are special. They provide some well known contract. \n",
    "\n",
    "For instance:\n",
    "- __init__ construct an object of the class type\n",
    "- __repr__ outputs a representation of the pbject as a string"
   ]
  },
  {
   "cell_type": "markdown",
   "id": "0a697852",
   "metadata": {},
   "source": [
    "Let us implement FruitBasket so that it is iterable."
   ]
  },
  {
   "cell_type": "markdown",
   "id": "2c3725be",
   "metadata": {},
   "source": [
    "For instance, this version is iterable. \n",
    "For will be in charge of computing each index values \n",
    "up to the point where index is out of bound."
   ]
  },
  {
   "cell_type": "code",
   "execution_count": 18,
   "id": "5da10097",
   "metadata": {},
   "outputs": [
    {
     "name": "stdout",
     "output_type": "stream",
     "text": [
      "Apple\n",
      "Orange\n",
      "Banana\n"
     ]
    }
   ],
   "source": [
    "class FruitBasketWithIterable:\n",
    "    def __init__(self):\n",
    "        self.fruits = [ \"Apple\", \"Orange\", \"Banana\"]\n",
    "        \n",
    "    def __getitem__(self, pos):\n",
    "        if (pos > len(self.fruits)):\n",
    "            raise IndexError\n",
    "        return self.fruits[pos]\n",
    "\n",
    "basket = FruitBasketWithIterable()\n",
    "for fruit in basket:\n",
    "    print(fruit)"
   ]
  },
  {
   "cell_type": "markdown",
   "id": "28d4515f",
   "metadata": {},
   "source": [
    "This one is iterable and rely on the iterator of the internal list."
   ]
  },
  {
   "cell_type": "code",
   "execution_count": 19,
   "id": "ded234d4",
   "metadata": {},
   "outputs": [
    {
     "name": "stdout",
     "output_type": "stream",
     "text": [
      "Apple\n",
      "Orange\n",
      "Banana\n"
     ]
    }
   ],
   "source": [
    "class FruitBasketWithIterator:\n",
    "    def __init__(self):\n",
    "        self.fruits = [ \"Apple\", \"Orange\", \"Banana\"]\n",
    "        \n",
    "    def __iter__(self):\n",
    "        return iter(self.fruits)\n",
    "\n",
    "basket = FruitBasketWithIterator()\n",
    "for fruit in basket:\n",
    "    print(fruit)"
   ]
  },
  {
   "cell_type": "markdown",
   "id": "2d39a83c",
   "metadata": {},
   "source": [
    "What would be a FruitBasket iterator ?\n",
    "\n",
    "An iterator must provide a __next__ method, keep track of  the state of the loop,  \n",
    "and is self-iterable (meaning returns self as __iter__ )"
   ]
  },
  {
   "cell_type": "code",
   "execution_count": 20,
   "id": "e768b208",
   "metadata": {},
   "outputs": [
    {
     "name": "stdout",
     "output_type": "stream",
     "text": [
      "Apple\n",
      "Orange\n",
      "Banana\n"
     ]
    }
   ],
   "source": [
    "class FruitBasketIterator:\n",
    "    def __init__(self):\n",
    "        self.fruits = [ \"Apple\", \"Orange\", \"Banana\"]\n",
    "        self.state = 0\n",
    "        self.limit = len(self.fruits)\n",
    "\n",
    "    def __iter__(self):\n",
    "        return self\n",
    "\n",
    "    def __next__(self):\n",
    "        if self.state >= self.limit:\n",
    "            raise StopIteration\n",
    "        value = self.fruits[self.state]\n",
    "        self.state += 1\n",
    "        return value\n",
    "    \n",
    "basket = FruitBasketIterator()\n",
    "for fruit in basket:\n",
    "    print(fruit)"
   ]
  },
  {
   "cell_type": "markdown",
   "id": "ce69c9bf",
   "metadata": {},
   "source": [
    "You may also iterate over an infinite list.\n",
    "\n",
    "For instance, let us implement the odd numbers iterator "
   ]
  },
  {
   "cell_type": "code",
   "execution_count": 22,
   "id": "393a8a3c",
   "metadata": {},
   "outputs": [
    {
     "name": "stdout",
     "output_type": "stream",
     "text": [
      "1\n",
      "3\n",
      "5\n"
     ]
    }
   ],
   "source": [
    "class OddNumbers:\n",
    "    def __init__(self):\n",
    "        self.state = -1\n",
    "\n",
    "    def __iter__(self):\n",
    "        return self\n",
    "\n",
    "    def __next__(self):\n",
    "        self.state += 2\n",
    "        return self.state \n",
    "\n",
    "odds_iter = OddNumbers()\n",
    "print(next(odds_iter))\n",
    "print(next(odds_iter))\n",
    "print(next(odds_iter))"
   ]
  },
  {
   "cell_type": "markdown",
   "id": "19f8348d",
   "metadata": {},
   "source": [
    "## And now the generator"
   ]
  },
  {
   "cell_type": "markdown",
   "id": "3c1db7b6",
   "metadata": {},
   "source": [
    "Generators provides a convenient way to write iterators.\n",
    "\n",
    "TODO\n",
    "The main feature of generator is evaluating the elements on demand. When you call a normal function with a return statement the function is terminated whenever it encounters a return statement. In a function with a yield statement the state of the function is “saved” from the last call and can be picked up the next time you call a generator function.\n",
    "\n",
    "Let us compare the OddNumbers implementation with this one"
   ]
  },
  {
   "cell_type": "code",
   "execution_count": 23,
   "id": "3b1c4e1f",
   "metadata": {},
   "outputs": [
    {
     "name": "stdout",
     "output_type": "stream",
     "text": [
      "1\n",
      "3\n",
      "5\n"
     ]
    }
   ],
   "source": [
    "def odd_numbers_generator():\n",
    "    n = 1\n",
    "    while True:\n",
    "        yield n\n",
    "        n += 2\n",
    "        \n",
    "odds_gen = odd_numbers_generator()\n",
    "print(next(odds_gen))\n",
    "print(next(odds_gen))\n",
    "print(next(odds_gen))"
   ]
  },
  {
   "cell_type": "code",
   "execution_count": null,
   "id": "2dd1fbd4",
   "metadata": {},
   "outputs": [],
   "source": [
    "The generator is an iterator. It may be used the same way. \n",
    "For instance, iterate over geneated first n numbers, print and sum."
   ]
  },
  {
   "cell_type": "code",
   "execution_count": 46,
   "id": "5aa99ef5",
   "metadata": {},
   "outputs": [
    {
     "name": "stdout",
     "output_type": "stream",
     "text": [
      "1\n",
      "2\n",
      "3\n",
      "4\n",
      "sum 10\n"
     ]
    }
   ],
   "source": [
    "def numbers_first_n(n):\n",
    "    i = 1\n",
    "    while i <= n:\n",
    "        yield i\n",
    "        i += 1\n",
    "for number in numbers_first_n(4):\n",
    "    print(number)\n",
    "\n",
    "sum_numbers = sum(numbers_first_n(4))\n",
    "print(f\"sum {sum_numbers}\")"
   ]
  },
  {
   "cell_type": "markdown",
   "id": "0625ad4a",
   "metadata": {},
   "source": [
    "You may also iterate over lists"
   ]
  },
  {
   "cell_type": "code",
   "execution_count": 48,
   "id": "57f534d7",
   "metadata": {},
   "outputs": [
    {
     "name": "stdout",
     "output_type": "stream",
     "text": [
      "Apple\n",
      "Orange\n",
      "Banana\n"
     ]
    }
   ],
   "source": [
    "def words_generator(): \n",
    "    words = [ \"Apple\", \"Orange\", \"Banana\"]\n",
    "    for w in words:\n",
    "        yield w \n",
    "        \n",
    "for w in words_generator():\n",
    "    print(w)"
   ]
  },
  {
   "cell_type": "markdown",
   "id": "6754b167",
   "metadata": {},
   "source": [
    "Generator may also be used in a class.\n",
    "\n",
    "Please note that in order to be iterable the class must implement __iter__ and __next__. Also do not put the generator into next as it would recreated each time next is called. The state would be reset and it loops forever."
   ]
  },
  {
   "cell_type": "code",
   "execution_count": 47,
   "id": "bbb70932",
   "metadata": {},
   "outputs": [
    {
     "name": "stdout",
     "output_type": "stream",
     "text": [
      "Apple\n",
      "Orange\n",
      "Banana\n"
     ]
    }
   ],
   "source": [
    "class FruitBasket:\n",
    "    def __init__(self):\n",
    "        self.fruits = [ \"Apple\", \"Orange\", \"Banana\"]\n",
    "        self.iterator = self.generator()\n",
    "\n",
    "    def __iter__(self):\n",
    "        return self\n",
    "\n",
    "    def __next__(self):\n",
    "        return next(self.iterator)\n",
    "      \n",
    "    def generator(self):\n",
    "        for w in self.fruits:\n",
    "            yield w \n",
    "\n",
    "basket = FruitBasket()\n",
    "print(next(basket))\n",
    "for fruit in basket:\n",
    "    print(fruit)"
   ]
  },
  {
   "cell_type": "code",
   "execution_count": null,
   "id": "3e041b5d",
   "metadata": {},
   "outputs": [],
   "source": [
    "Please note that the self.generator() returns an iterator."
   ]
  },
  {
   "cell_type": "markdown",
   "id": "848fc63b",
   "metadata": {},
   "source": [
    "## How does it relates to Simpy events ?"
   ]
  },
  {
   "cell_type": "markdown",
   "id": "944f0a67",
   "metadata": {},
   "source": [
    "Here is the process we used. \n",
    "The action function looks like the generator function in the generator."
   ]
  },
  {
   "cell_type": "code",
   "execution_count": null,
   "id": "1075b861",
   "metadata": {},
   "outputs": [],
   "source": [
    "from simpy import Environment, Process\n",
    "class Visitor(Process):  \n",
    "    def __init__(self, env):\n",
    "        super().__init__(env, self.visit())\n",
    "\n",
    "    def visit(self): \n",
    "        print(\"Here I am at %2.1f\" % self.env.now) \n",
    "        duration = 2\n",
    "        yield env.timeout(duration)\n",
    "        print(\"I must leave at %2.1f\" % self.env.now) "
   ]
  },
  {
   "cell_type": "markdown",
   "id": "e4c4093a",
   "metadata": {},
   "source": [
    "Here is a Process class that looks more  similar to a process. The process is defined by a list of task."
   ]
  },
  {
   "cell_type": "code",
   "execution_count": 64,
   "id": "a099ad53",
   "metadata": {},
   "outputs": [
    {
     "name": "stdout",
     "output_type": "stream",
     "text": [
      "task1\n",
      "task2\n",
      "task3\n"
     ]
    }
   ],
   "source": [
    "class Process:\n",
    "    def __init__(self):\n",
    "        self.tasks = [ \"task1\", \"task2\", \"task3\"]\n",
    "        self.iterator = self.generator()\n",
    "        \n",
    "    def __iter__(self):\n",
    "        return self\n",
    "\n",
    "    def __next__(self):\n",
    "        return next(self.iterator)\n",
    "      \n",
    "    def generator(self):\n",
    "        for t in self.tasks:\n",
    "            yield t       \n",
    "            \n",
    "process = Process()\n",
    "for task in process:\n",
    "    print(task)"
   ]
  },
  {
   "cell_type": "code",
   "execution_count": null,
   "id": "710d12e7",
   "metadata": {},
   "outputs": [],
   "source": [
    "They look similar"
   ]
  },
  {
   "cell_type": "markdown",
   "id": "c479552f",
   "metadata": {},
   "source": [
    "Now let us try a more dynamic process. \n",
    "Say each time we unpile a task we put another task onto the list. "
   ]
  },
  {
   "cell_type": "code",
   "execution_count": 70,
   "id": "9f3bbae9",
   "metadata": {},
   "outputs": [
    {
     "name": "stdout",
     "output_type": "stream",
     "text": [
      "task1\n",
      "task2\n",
      "task3\n",
      "task11\n",
      "task21\n",
      "task31\n",
      "task111\n",
      "task211\n",
      "task311\n",
      "task1111\n"
     ]
    }
   ],
   "source": [
    "class Process:\n",
    "    def __init__(self):\n",
    "        self.tasks = [ \"task1\", \"task2\", \"task3\"]\n",
    "        self.iterator = self.generator()\n",
    "        \n",
    "    def __iter__(self):\n",
    "        return self\n",
    "\n",
    "    def __next__(self):\n",
    "        return next(self.iterator)\n",
    "      \n",
    "    def generator(self):\n",
    "        for t in self.tasks:\n",
    "            yield t \n",
    "            self.tasks.append(f\"{t}1\")\n",
    "\n",
    "process = Process()\n",
    "for i in range(0,10):\n",
    "    print(next(process))"
   ]
  },
  {
   "cell_type": "markdown",
   "id": "96d75460",
   "metadata": {},
   "source": [
    "The generator will let the process define what comes next. \n",
    "The environment will use the generator as a standard \n",
    "interface to get the next element."
   ]
  },
  {
   "cell_type": "markdown",
   "id": "f7718e3b",
   "metadata": {},
   "source": [
    "## Multiple yield"
   ]
  },
  {
   "cell_type": "code",
   "execution_count": null,
   "id": "fd826afb",
   "metadata": {},
   "outputs": [],
   "source": [
    "What happens if the generator has multiple yields"
   ]
  },
  {
   "cell_type": "code",
   "execution_count": 74,
   "id": "bcdcc80b",
   "metadata": {},
   "outputs": [
    {
     "name": "stdout",
     "output_type": "stream",
     "text": [
      "-\n",
      "0\n",
      "-\n",
      "Apple\n",
      "-\n",
      "1\n",
      "-\n",
      "Orange\n",
      "-\n",
      "2\n",
      "-\n",
      "Banana\n"
     ]
    }
   ],
   "source": [
    "def fruits_generator():\n",
    "    fruits = [ \"Apple\", \"Orange\", \"Banana\"]\n",
    "    n = 0\n",
    "    while n < len(fruits):\n",
    "        yield n\n",
    "        yield fruits[n]\n",
    "        n += 1\n",
    "        \n",
    "fruits = fruits_generator()\n",
    "for fruit in fruits:\n",
    "    print(\"-\")\n",
    "    print(fruit)"
   ]
  },
  {
   "cell_type": "markdown",
   "id": "d7a725fa",
   "metadata": {},
   "source": [
    "What happens if the generator chain another generator"
   ]
  },
  {
   "cell_type": "code",
   "execution_count": 94,
   "id": "04bad3e9",
   "metadata": {},
   "outputs": [
    {
     "name": "stdout",
     "output_type": "stream",
     "text": [
      "Apple\n",
      "Orange\n",
      "Banana\n"
     ]
    },
    {
     "ename": "RuntimeError",
     "evalue": "generator raised StopIteration",
     "output_type": "error",
     "traceback": [
      "\u001b[0;31m---------------------------------------------------------------------------\u001b[0m",
      "\u001b[0;31mStopIteration\u001b[0m                             Traceback (most recent call last)",
      "\u001b[0;32m/var/folders/mz/jwctlgxx11bg34b_1wygb5br0000gp/T/ipykernel_3003/28217579.py\u001b[0m in \u001b[0;36mfruits_generator\u001b[0;34m()\u001b[0m\n\u001b[1;32m     11\u001b[0m     \u001b[0;32mwhile\u001b[0m \u001b[0mn\u001b[0m \u001b[0;34m<\u001b[0m \u001b[0;36m3\u001b[0m\u001b[0;34m:\u001b[0m\u001b[0;34m\u001b[0m\u001b[0;34m\u001b[0m\u001b[0m\n\u001b[0;32m---> 12\u001b[0;31m         \u001b[0;32myield\u001b[0m \u001b[0mfruits\u001b[0m\u001b[0;34m[\u001b[0m\u001b[0mnext\u001b[0m\u001b[0;34m(\u001b[0m\u001b[0mgen\u001b[0m\u001b[0;34m)\u001b[0m \u001b[0;34m]\u001b[0m\u001b[0;34m\u001b[0m\u001b[0;34m\u001b[0m\u001b[0m\n\u001b[0m\u001b[1;32m     13\u001b[0m \u001b[0;34m\u001b[0m\u001b[0m\n",
      "\u001b[0;31mStopIteration\u001b[0m: ",
      "\nThe above exception was the direct cause of the following exception:\n",
      "\u001b[0;31mRuntimeError\u001b[0m                              Traceback (most recent call last)",
      "\u001b[0;32m/var/folders/mz/jwctlgxx11bg34b_1wygb5br0000gp/T/ipykernel_3003/28217579.py\u001b[0m in \u001b[0;36m<module>\u001b[0;34m\u001b[0m\n\u001b[1;32m     12\u001b[0m         \u001b[0;32myield\u001b[0m \u001b[0mfruits\u001b[0m\u001b[0;34m[\u001b[0m\u001b[0mnext\u001b[0m\u001b[0;34m(\u001b[0m\u001b[0mgen\u001b[0m\u001b[0;34m)\u001b[0m \u001b[0;34m]\u001b[0m\u001b[0;34m\u001b[0m\u001b[0;34m\u001b[0m\u001b[0m\n\u001b[1;32m     13\u001b[0m \u001b[0;34m\u001b[0m\u001b[0m\n\u001b[0;32m---> 14\u001b[0;31m \u001b[0;32mfor\u001b[0m \u001b[0mfruit\u001b[0m \u001b[0;32min\u001b[0m \u001b[0mfruits_generator\u001b[0m\u001b[0;34m(\u001b[0m\u001b[0;34m)\u001b[0m\u001b[0;34m:\u001b[0m\u001b[0;34m\u001b[0m\u001b[0;34m\u001b[0m\u001b[0m\n\u001b[0m\u001b[1;32m     15\u001b[0m     \u001b[0mprint\u001b[0m\u001b[0;34m(\u001b[0m\u001b[0mfruit\u001b[0m\u001b[0;34m)\u001b[0m\u001b[0;34m\u001b[0m\u001b[0;34m\u001b[0m\u001b[0m\n",
      "\u001b[0;31mRuntimeError\u001b[0m: generator raised StopIteration"
     ]
    }
   ],
   "source": [
    "def numbers_generator():\n",
    "    n = 0\n",
    "    while n < 3:\n",
    "        yield n\n",
    "        n += 1\n",
    "        \n",
    "def fruits_generator():\n",
    "    fruits = [ \"Apple\", \"Orange\", \"Banana\"]\n",
    "    gen = numbers_generator()\n",
    "    n = 0\n",
    "    while n < 3:        \n",
    "        yield fruits[next(gen) ]\n",
    "\n",
    "for fruit in fruits_generator():\n",
    "    print(fruit)"
   ]
  },
  {
   "cell_type": "code",
   "execution_count": null,
   "id": "4f1394d9",
   "metadata": {},
   "outputs": [],
   "source": []
  }
 ],
 "metadata": {
  "kernelspec": {
   "display_name": "Python 3 (ipykernel)",
   "language": "python",
   "name": "python3"
  },
  "language_info": {
   "codemirror_mode": {
    "name": "ipython",
    "version": 3
   },
   "file_extension": ".py",
   "mimetype": "text/x-python",
   "name": "python",
   "nbconvert_exporter": "python",
   "pygments_lexer": "ipython3",
   "version": "3.8.11"
  }
 },
 "nbformat": 4,
 "nbformat_minor": 5
}
