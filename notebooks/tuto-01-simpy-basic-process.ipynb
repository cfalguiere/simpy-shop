{
 "cells": [
  {
   "cell_type": "code",
   "execution_count": 11,
   "id": "c379869b",
   "metadata": {},
   "outputs": [
    {
     "name": "stdout",
     "output_type": "stream",
     "text": [
      "Requirement already satisfied: simpy in /Users/cfalguiere/opt/anaconda3/envs/simpy/lib/python3.8/site-packages (4.0.1)\r\n"
     ]
    }
   ],
   "source": [
    "!pip install simpy"
   ]
  },
  {
   "cell_type": "markdown",
   "id": "7a61062e",
   "metadata": {},
   "source": [
    "### Goal\n",
    "- feature out Simpy events, process and timeout"
   ]
  },
  {
   "cell_type": "markdown",
   "id": "edc7c1b7",
   "metadata": {},
   "source": [
    "most basic simulation"
   ]
  },
  {
   "cell_type": "code",
   "execution_count": 12,
   "id": "be395390",
   "metadata": {},
   "outputs": [],
   "source": [
    "from simpy import Environment"
   ]
  },
  {
   "cell_type": "code",
   "execution_count": 13,
   "id": "6fbae881",
   "metadata": {},
   "outputs": [
    {
     "name": "stdout",
     "output_type": "stream",
     "text": [
      "start at 0\n",
      "stop at 10\n"
     ]
    }
   ],
   "source": [
    "sim_duration = 10\n",
    "env = Environment()\n",
    "print(f'start at {env.now}')\n",
    "env.run(until=sim_duration)\n",
    "print(f'stop at {env.now}')"
   ]
  },
  {
   "cell_type": "markdown",
   "id": "6548fd01",
   "metadata": {},
   "source": [
    "you need a process\n",
    "in this process customer waits for 2 "
   ]
  },
  {
   "cell_type": "code",
   "execution_count": 14,
   "id": "a3e4abff",
   "metadata": {},
   "outputs": [],
   "source": [
    "from simpy import Environment, Process\n",
    "class Visitor(Process):  \n",
    "    def __init__(self, env, name):\n",
    "        super().__init__(env, self.visit())\n",
    "        self.name = name\n",
    "\n",
    "    def visit(self): \n",
    "        print(f\"{self.name}: Here I am at {self.env.now:2.1f}\") \n",
    "        duration = len(self.name)\n",
    "        yield env.timeout(duration)\n",
    "        print(f\"{self.name}: I must leave at {self.env.now:2.1f}\") "
   ]
  },
  {
   "cell_type": "code",
   "execution_count": 15,
   "id": "fe05ea9c",
   "metadata": {},
   "outputs": [
    {
     "name": "stdout",
     "output_type": "stream",
     "text": [
      "start at 0\n",
      "Alice: Here I am at 0.0\n",
      "Alice: I must leave at 5.0\n",
      "stop at 10\n"
     ]
    }
   ],
   "source": [
    "sim_duration = 10\n",
    "env = Environment()\n",
    "Visitor(env, \"Alice\")\n",
    "print(f'start at {env.now}')\n",
    "env.run(until=sim_duration)\n",
    "print(f'stop at {env.now}')"
   ]
  },
  {
   "cell_type": "markdown",
   "id": "a1fe7c3b",
   "metadata": {},
   "source": [
    "please note that visitor whow once and leave"
   ]
  },
  {
   "cell_type": "markdown",
   "id": "bae33791",
   "metadata": {},
   "source": [
    "events.Event\n",
    "|\n",
    "+— events.Timeout\n",
    "|\n",
    "+— events.Initialize\n",
    "|\n",
    "+— events.Process\n",
    "|\n",
    "+— events.Condition\n",
    "|  |\n",
    "|  +— events.AllOf\n",
    "|  |\n",
    "|  +— events.AnyOf\n",
    ".\n",
    "."
   ]
  },
  {
   "cell_type": "markdown",
   "id": "36bd4b45",
   "metadata": {},
   "source": [
    "generator is an iterator, but it easier to write (example with __iter__ and __next__)\n",
    "as it is an iterator ou may user next\n"
   ]
  },
  {
   "cell_type": "code",
   "execution_count": 16,
   "id": "2da0a58b",
   "metadata": {},
   "outputs": [
    {
     "name": "stdout",
     "output_type": "stream",
     "text": [
      "Alice: Here I am at 0.0\n",
      "<Timeout(5) object at 0x1082dc820>\n",
      "timeout <Timeout(5) object at 0x1082dc820>\n",
      "now 0\n",
      "timeout value None\n",
      "triggered True\n",
      "processed False\n"
     ]
    }
   ],
   "source": [
    "sim_duration = 10\n",
    "env = Environment()\n",
    "visitor = Visitor(env, \"Alice\")\n",
    "try:\n",
    "    timeout = next(visitor.visit())\n",
    "    print(timeout)\n",
    "    print(f\"timeout {timeout}\")\n",
    "    print(f\"now {timeout.env.now}\")\n",
    "    print(f\"timeout value {timeout.value}\")\n",
    "    print(f\"triggered {timeout.triggered}\")\n",
    "    print(f\"processed {timeout.processed}\")\n",
    "except StopIteration:\n",
    "    print(\"Unexpected error:\", sys.exc_info()[0])"
   ]
  },
  {
   "cell_type": "markdown",
   "id": "c8fc6eeb",
   "metadata": {},
   "source": [
    "now add a callback\n",
    "never -processed but automaticaly triggered"
   ]
  },
  {
   "cell_type": "markdown",
   "id": "9c51105e",
   "metadata": {},
   "source": [
    "run sim until event occur"
   ]
  },
  {
   "cell_type": "code",
   "execution_count": 17,
   "id": "883e1084",
   "metadata": {},
   "outputs": [
    {
     "name": "stdout",
     "output_type": "stream",
     "text": [
      "Alice: Here I am at 0.0\n",
      "Alice: I must leave at 5.0\n",
      "Called back from <Visitor(visit) object at 0x1082dca30>\n",
      "<Visitor(visit) object at 0x1082dca30>\n",
      "now 5\n",
      "timeout <Visitor(visit) object at 0x1082dca30>\n",
      "timeout value None\n",
      "triggered True\n",
      "processed True\n",
      "stop at 5\n"
     ]
    }
   ],
   "source": [
    "def my_callback(timeout):\n",
    "    print(f'Called back from {timeout}')\n",
    "    print(timeout)\n",
    "    print(f\"now {timeout.env.now}\")\n",
    "    print(f\"timeout {timeout}\")\n",
    "    print(f\"timeout value {timeout.value}\")\n",
    "    print(f\"triggered {timeout.triggered}\")\n",
    "    print(f\"processed {timeout.processed}\")\n",
    "\n",
    "env = Environment()\n",
    "visited = Visitor(env, \"Alice\")\n",
    "visited.callbacks.append(my_callback)\n",
    "env.run(until=visited)\n",
    "print(f'stop at {env.now}')"
   ]
  },
  {
   "cell_type": "markdown",
   "id": "a93335e3",
   "metadata": {},
   "source": [
    "until n stands for until timeout(n)\n",
    "stops when the process is done"
   ]
  },
  {
   "cell_type": "code",
   "execution_count": 18,
   "id": "188c03cd",
   "metadata": {},
   "outputs": [
    {
     "name": "stdout",
     "output_type": "stream",
     "text": [
      "<Visitor(visit) object at 0x1082dc760>\n",
      "start at 0\n",
      "Alice: Here I am at 0.0\n",
      "Alice: I must leave at 5.0\n",
      "stop at 5\n"
     ]
    }
   ],
   "source": [
    "env = Environment()\n",
    "visited = Visitor(env, \"Alice\")\n",
    "print(visited)\n",
    "print(f'start at {env.now}')\n",
    "env.run(until=visited)\n",
    "print(f'stop at {env.now}')"
   ]
  },
  {
   "cell_type": "code",
   "execution_count": 19,
   "id": "e56d427a",
   "metadata": {},
   "outputs": [
    {
     "name": "stdout",
     "output_type": "stream",
     "text": [
      "start at 0\n",
      "Alice: Here I am at 0.0\n",
      "Bob: Here I am at 0.0\n",
      "Bob: I must leave at 3.0\n",
      "stop at 3\n"
     ]
    }
   ],
   "source": [
    "env = Environment()\n",
    "alice_visited = Visitor(env, \"Alice\")\n",
    "bob_visited = Visitor(env, \"Bob\")\n",
    "print(f'start at {env.now}')\n",
    "env.run(until= alice_visited | bob_visited)\n",
    "print(f'stop at {env.now}')"
   ]
  },
  {
   "cell_type": "code",
   "execution_count": 20,
   "id": "da0c05f8",
   "metadata": {},
   "outputs": [
    {
     "name": "stdout",
     "output_type": "stream",
     "text": [
      "start at 0\n",
      "Alice: Here I am at 0.0\n",
      "Bob: Here I am at 0.0\n",
      "Bob: I must leave at 3.0\n",
      "Alice: I must leave at 5.0\n",
      "stop at 5\n"
     ]
    }
   ],
   "source": [
    "env = Environment()\n",
    "alice_visited = Visitor(env, \"Alice\")\n",
    "bob_visited = Visitor(env, \"Bob\")\n",
    "print(f'start at {env.now}')\n",
    "env.run(until= alice_visited & bob_visited)\n",
    "print(f'stop at {env.now}')"
   ]
  },
  {
   "cell_type": "markdown",
   "id": "b93e79d2",
   "metadata": {},
   "source": [
    "until expect any event or condition"
   ]
  },
  {
   "cell_type": "markdown",
   "id": "123b047c",
   "metadata": {},
   "source": [
    "run sim until event occur\n",
    "event.succeed\n",
    "happy with visits\n",
    "\n",
    "condition and multiple condition"
   ]
  },
  {
   "cell_type": "code",
   "execution_count": null,
   "id": "e482b33e",
   "metadata": {},
   "outputs": [],
   "source": []
  }
 ],
 "metadata": {
  "kernelspec": {
   "display_name": "Python 3 (ipykernel)",
   "language": "python",
   "name": "python3"
  },
  "language_info": {
   "codemirror_mode": {
    "name": "ipython",
    "version": 3
   },
   "file_extension": ".py",
   "mimetype": "text/x-python",
   "name": "python",
   "nbconvert_exporter": "python",
   "pygments_lexer": "ipython3",
   "version": "3.8.11"
  }
 },
 "nbformat": 4,
 "nbformat_minor": 5
}
