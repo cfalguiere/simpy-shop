{
 "cells": [
  {
   "cell_type": "markdown",
   "id": "7a61062e",
   "metadata": {},
   "source": [
    "# Goal\n",
    "- first steps with simpy\n",
    "- feature out Simpy events, process, timeout and conditions"
   ]
  },
  {
   "cell_type": "markdown",
   "id": "17c5b305",
   "metadata": {},
   "source": [
    "## prerequites\n",
    "- basic Python knowledge\n",
    "- Some OOP (Object Oriented Programming) knowledge"
   ]
  },
  {
   "cell_type": "markdown",
   "id": "cc795aa5",
   "metadata": {},
   "source": [
    "# What is Simpy\n",
    "\n",
    "Simpy is a discrete simulation tool. \n",
    "\n",
    "TODO intro"
   ]
  },
  {
   "cell_type": "markdown",
   "id": "113deb69",
   "metadata": {},
   "source": [
    "## Install the simpy package"
   ]
  },
  {
   "cell_type": "code",
   "execution_count": 1,
   "id": "c379869b",
   "metadata": {},
   "outputs": [
    {
     "name": "stdout",
     "output_type": "stream",
     "text": [
      "Requirement already satisfied: simpy in /Users/cfalguiere/opt/anaconda3/envs/simpy/lib/python3.8/site-packages (4.0.1)\r\n"
     ]
    }
   ],
   "source": [
    "!pip install simpy"
   ]
  },
  {
   "cell_type": "markdown",
   "id": "edc7c1b7",
   "metadata": {},
   "source": [
    "## Let us build a very basic simulation"
   ]
  },
  {
   "cell_type": "markdown",
   "id": "86b6e43c",
   "metadata": {},
   "source": [
    "We first need a Simpy environment. It is the frame of the simulation.\n",
    "\n",
    "The main role of the environement is to keep track of processes and time passing"
   ]
  },
  {
   "cell_type": "code",
   "execution_count": 2,
   "id": "be395390",
   "metadata": {},
   "outputs": [],
   "source": [
    "from simpy import Environment"
   ]
  },
  {
   "cell_type": "code",
   "execution_count": 3,
   "id": "6fbae881",
   "metadata": {},
   "outputs": [
    {
     "name": "stdout",
     "output_type": "stream",
     "text": [
      "Simulation starts at 0\n",
      "Simulation stops at 10\n"
     ]
    }
   ],
   "source": [
    "# create an environment\n",
    "env = Environment()\n",
    "# rn the simulation for 10 steps\n",
    "# now hold the current step of the simulation\n",
    "print(f'Simulation starts at {env.now}')\n",
    "sim_duration = 10\n",
    "env.run(until=sim_duration)\n",
    "print(f'Simulation stops at {env.now}')"
   ]
  },
  {
   "cell_type": "markdown",
   "id": "c066f93a",
   "metadata": {},
   "source": [
    "It starts and stop after 10 steps."
   ]
  },
  {
   "cell_type": "markdown",
   "id": "d3a7d26c",
   "metadata": {},
   "source": [
    "## Add some people visiting the bank"
   ]
  },
  {
   "cell_type": "markdown",
   "id": "fe6a92a1",
   "metadata": {},
   "source": [
    "Something happen in the simulation because an event has triggered. \n",
    "There are multiple types of events.\n",
    "\n",
    "The documentation tells there are these kind of event \n",
    "```\n",
    "events.Event \n",
    "| +— events.Timeout \n",
    "| +— events.Initialize \n",
    "| +— events.Process \n",
    "| +— events.Condition \n",
    "| | | +— events.AllOf \n",
    "| | | +— events.AnyOf \n",
    "```\n",
    "TODO link to API reference\n",
    "\n",
    "Let us start with process.\n",
    "\n",
    "Processes are used to represent people ou objects interacting with the environnement. Their behavior is implemented as a process."
   ]
  },
  {
   "cell_type": "markdown",
   "id": "6548fd01",
   "metadata": {},
   "source": [
    "The visitor of the bank is a process. Let us assiume for the time being that the visitor enter the bank, have a look at this beatiful building and leave after a while. "
   ]
  },
  {
   "cell_type": "code",
   "execution_count": 4,
   "id": "07443307",
   "metadata": {},
   "outputs": [],
   "source": [
    "from simpy import Environment, Process"
   ]
  },
  {
   "cell_type": "code",
   "execution_count": 5,
   "id": "a3e4abff",
   "metadata": {},
   "outputs": [],
   "source": [
    "# This class defines the behavior of visitors\n",
    "# it relies on the Process class\n",
    "class Visitor(Process):  \n",
    "    # This method constructs a visitor object\n",
    "    def __init__(self, env, name):\n",
    "        # first init the undelying process\n",
    "        # the second argument is the action that must be taken\n",
    "        super().__init__(env, self.visit())\n",
    "        # give the visitor a name\n",
    "        self.name = name\n",
    "\n",
    "    # This method implements the visitor action\n",
    "    # It must be a generator (more on thos in tuto-02)\n",
    "    def visit(self): \n",
    "        print(f\"{self.name}: Here I am at {self.env.now}\") \n",
    "        # duration is the time the visitor wait inside the bank\n",
    "        # For the sake of simplicity is it the length of the name\n",
    "        duration = len(self.name)\n",
    "        # We will see in tuto-02 what the yield thing does\n",
    "        # timeout generate an event that last for the lengh of duration\n",
    "        yield env.timeout(duration)\n",
    "        print(f\"{self.name}: I must leave at {self.env.now}\") "
   ]
  },
  {
   "cell_type": "code",
   "execution_count": 6,
   "id": "fe05ea9c",
   "metadata": {},
   "outputs": [
    {
     "name": "stdout",
     "output_type": "stream",
     "text": [
      "Simulation starts at 0\n",
      "Alice: Here I am at 0\n",
      "Alice: I must leave at 5\n",
      "Simulation stops at 10\n"
     ]
    }
   ],
   "source": [
    "# create an environment\n",
    "env = Environment()\n",
    "# create a visitor\n",
    "Visitor(env, \"Alice\")\n",
    "# run the simulation for 1à steps\n",
    "print(f'Simulation starts at {env.now}')\n",
    "sim_duration = 10\n",
    "env.run(until=sim_duration)\n",
    "print(f'Simulation stops at {env.now}')"
   ]
  },
  {
   "cell_type": "markdown",
   "id": "014d17f7",
   "metadata": {},
   "source": [
    "The trace shows that Alice started a step 0 and leaved at step 5 after a timeout of 5  (tge name Alice has 5 letters)"
   ]
  },
  {
   "cell_type": "markdown",
   "id": "6d5d3269",
   "metadata": {},
   "source": [
    "Process objecrs like visitor or Timeout objects generate events. The environement keeps track of time and events. \n",
    "\n",
    "Events are triggered at some point in time. They start and after a while they may succeed or fail and end.\n",
    "\n",
    "Event might be combined in a chain. \n",
    "- the process visit starts when visitor is created\n",
    "- the environnement waits until it ends\n",
    "- The process visit triggered a timeout event and waits until it ends\n"
   ]
  },
  {
   "cell_type": "markdown",
   "id": "c9d2020c",
   "metadata": {},
   "source": [
    "TODO event queue"
   ]
  },
  {
   "cell_type": "markdown",
   "id": "6e18cf97",
   "metadata": {},
   "source": [
    "## Internals of an event"
   ]
  },
  {
   "cell_type": "markdown",
   "id": "3a2055f2",
   "metadata": {},
   "source": [
    "Simpy let us add callbacks to events. \n",
    "The callback is a function that will be called when the event is completed.\n",
    "This allows for running some extra processing at that point."
   ]
  },
  {
   "cell_type": "markdown",
   "id": "42c8d9ef",
   "metadata": {},
   "source": [
    "Let us add a callback to inspect the visitor at different point in time."
   ]
  },
  {
   "cell_type": "code",
   "execution_count": 7,
   "id": "883e1084",
   "metadata": {},
   "outputs": [
    {
     "name": "stdout",
     "output_type": "stream",
     "text": [
      "Called back at 0\n",
      "event <Visitor(visit) object at 0x1122eb580>\n",
      "event triggered:False processed:False\n",
      "enf of callback\n",
      "Simulation starts at 0\n",
      "Alice: Here I am at 0\n",
      "Called back at 0\n",
      "event <Visitor(visit) object at 0x1122eb580>\n",
      "event triggered:False processed:False\n",
      "enf of callback\n",
      "Called back at 5\n",
      "event <Visitor(visit) object at 0x1122eb580>\n",
      "event triggered:False processed:False\n",
      "enf of callback\n",
      "Alice: I must leave at 5\n",
      "Called back at 5\n",
      "event <Visitor(visit) object at 0x1122eb580>\n",
      "event triggered:True processed:True\n",
      "enf of callback\n",
      "Simulation stops at 10\n"
     ]
    }
   ],
   "source": [
    "def snoop(event):\n",
    "    print(f'Called back at {event.env.now}')\n",
    "    print(f\"event {event}\")\n",
    "    print(f\"event triggered:{event.triggered} processed:{event.processed}\")\n",
    "    print(f'enf of callback')\n",
    "\n",
    "class Visitor(Process):  \n",
    "    def __init__(self, env, name):\n",
    "        super().__init__(env, self.visit())\n",
    "        self.name = name\n",
    "\n",
    "    def visit(self): \n",
    "        print(f\"{self.name}: Here I am at {self.env.now}\") \n",
    "        snoop(self)\n",
    "        duration = len(self.name)\n",
    "        yield env.timeout(duration)\n",
    "        snoop(self)\n",
    "        print(f\"{self.name}: I must leave at {self.env.now}\") \n",
    "        \n",
    "env = Environment()\n",
    "visited = Visitor(env, \"Alice\")\n",
    "# call the snoop function before the simulation starts\n",
    "snoop(visited)\n",
    "# set snoop as a callback to be called when the visit ends\n",
    "visited.callbacks.append(snoop)\n",
    "print(f'Simulation starts at {env.now}')\n",
    "sim_duration = 10\n",
    "env.run(until=sim_duration)\n",
    "print(f'Simulation stops at {env.now}')"
   ]
  },
  {
   "cell_type": "markdown",
   "id": "01a29fd3",
   "metadata": {},
   "source": [
    "TODO description"
   ]
  },
  {
   "cell_type": "markdown",
   "id": "589d7ddc",
   "metadata": {},
   "source": [
    "## conditions and multiple conditions"
   ]
  },
  {
   "cell_type": "markdown",
   "id": "7e66f64c",
   "metadata": {},
   "source": [
    "Up to now the simulation ran for a predefined number of steps.\n",
    "\n",
    "In the run expression below, the number stands for until the event env.timeout(duration) is done. \n",
    "```\n",
    "env.run(until=sim_duration) \n",
    "```\n",
    "\n",
    "However the parameter until expects any event or condition. The simulation might stop when a condition is met.\n",
    "\n",
    "For instance, let us stop the simulation when Alice has visited."
   ]
  },
  {
   "cell_type": "code",
   "execution_count": 8,
   "id": "d622f261",
   "metadata": {},
   "outputs": [],
   "source": [
    "class Visitor(Process):  \n",
    "    def __init__(self, env, name):\n",
    "        super().__init__(env, self.visit())\n",
    "        self.name = name\n",
    "\n",
    "    def visit(self): \n",
    "        print(f\"{self.name}: Here I am at {self.env.now}\") \n",
    "        duration = len(self.name)\n",
    "        yield env.timeout(duration)\n",
    "        print(f\"{self.name}: I must leave at {self.env.now}\") "
   ]
  },
  {
   "cell_type": "code",
   "execution_count": 9,
   "id": "188c03cd",
   "metadata": {},
   "outputs": [
    {
     "name": "stdout",
     "output_type": "stream",
     "text": [
      "Simulation starts at 0\n",
      "Alice: Here I am at 0\n",
      "Alice: I must leave at 5\n",
      "Simulation stops at 5\n"
     ]
    }
   ],
   "source": [
    "env = Environment()\n",
    "alice_visited = Visitor(env, \"Alice\")\n",
    "print(f'Simulation starts at {env.now}')\n",
    "# run the simulation until Alice's visit is done\n",
    "env.run(until=alice_visited)\n",
    "print(f'Simulation stops at {env.now}')"
   ]
  },
  {
   "cell_type": "markdown",
   "id": "8fbf5f0f",
   "metadata": {},
   "source": [
    "Please not that the simulation now ends at 5, right after the visit."
   ]
  },
  {
   "cell_type": "markdown",
   "id": "e89dc598",
   "metadata": {},
   "source": [
    "Events might be combined to form conditions in two ways\n",
    "- AnyOf or | : event is done when one of the events is completed\n",
    "- AllOf or & : event is done when all the events are completed\n",
    "    "
   ]
  },
  {
   "cell_type": "markdown",
   "id": "3ddcd37f",
   "metadata": {},
   "source": [
    "What if the simulation ends if either Alice's or Bob's visit is done "
   ]
  },
  {
   "cell_type": "code",
   "execution_count": 10,
   "id": "e56d427a",
   "metadata": {},
   "outputs": [
    {
     "name": "stdout",
     "output_type": "stream",
     "text": [
      "Simulation starts at 0\n",
      "Alice: Here I am at 0\n",
      "Bob: Here I am at 0\n",
      "Bob: I must leave at 3\n",
      "Simulation stops at 3\n"
     ]
    }
   ],
   "source": [
    "env = Environment()\n",
    "alice_visited = Visitor(env, \"Alice\")\n",
    "bob_visited = Visitor(env, \"Bob\")\n",
    "print(f'Simulation starts at {env.now}')\n",
    "env.run(until= alice_visited | bob_visited)\n",
    "print(f'Simulation stops at {env.now}')"
   ]
  },
  {
   "cell_type": "markdown",
   "id": "e81f4ac9",
   "metadata": {},
   "source": [
    "The simulation ends at 3, when Bob's visit ends (the shortest) "
   ]
  },
  {
   "cell_type": "markdown",
   "id": "a335bce1",
   "metadata": {},
   "source": [
    "What if the simulation ends when both Alice's or Bob's visit are done "
   ]
  },
  {
   "cell_type": "code",
   "execution_count": 11,
   "id": "da0c05f8",
   "metadata": {},
   "outputs": [
    {
     "name": "stdout",
     "output_type": "stream",
     "text": [
      "Simulation starts at 0\n",
      "Alice: Here I am at 0\n",
      "Bob: Here I am at 0\n",
      "Bob: I must leave at 3\n",
      "Alice: I must leave at 5\n",
      "Simulation stops at 5\n"
     ]
    }
   ],
   "source": [
    "env = Environment()\n",
    "alice_visited = Visitor(env, \"Alice\")\n",
    "bob_visited = Visitor(env, \"Bob\")\n",
    "print(f'Simulation starts at {env.now}')\n",
    "env.run(until= alice_visited & bob_visited)\n",
    "print(f'Simulation stops at {env.now}')"
   ]
  },
  {
   "cell_type": "markdown",
   "id": "85b62772",
   "metadata": {},
   "source": [
    "The simulation ends at 5, when the longest visit ends."
   ]
  },
  {
   "cell_type": "markdown",
   "id": "bb49a0c4",
   "metadata": {},
   "source": [
    "## Condition in processes"
   ]
  },
  {
   "cell_type": "markdown",
   "id": "14eedd7f",
   "metadata": {},
   "source": [
    "Condition are also useful to model joins or alternatives in processes."
   ]
  },
  {
   "cell_type": "markdown",
   "id": "9b3cc303",
   "metadata": {},
   "source": [
    "We will slighly change the model. Now the visit ends when the visitor has either taken a photo or is bored with the visit."
   ]
  },
  {
   "cell_type": "code",
   "execution_count": 12,
   "id": "f189e0e5",
   "metadata": {},
   "outputs": [],
   "source": [
    "class Visitor(Process):  \n",
    "    def __init__(self, env, name):\n",
    "        super().__init__(env, self.visit())\n",
    "        self.name = name\n",
    "\n",
    "    def visit(self): \n",
    "        print(f\"{self.name}: Here I am at {self.env.now}\") \n",
    "        duration = len(self.name)\n",
    "        # env.process is used to make a process out of the function\n",
    "        bored = self.env.process(self.bored())\n",
    "        got_picture = self.env.process(self.got_picture()) \n",
    "        # visit ends when either of those occurs                              #\n",
    "        yield bored | got_picture\n",
    "        print(f\"{self.name}: I must leave at {self.env.now}\") \n",
    "    \n",
    "    def bored(self): \n",
    "        # get bored after 3 for Bob, and 5 for Alice\n",
    "        duration = len(self.name)\n",
    "        yield env.timeout(duration)\n",
    "    \n",
    "    def got_picture(self): \n",
    "        # taking the picture last 4\n",
    "        yield env.timeout(4)\n"
   ]
  },
  {
   "cell_type": "code",
   "execution_count": 13,
   "id": "09efba5d",
   "metadata": {},
   "outputs": [
    {
     "name": "stdout",
     "output_type": "stream",
     "text": [
      "Simulation starts at 0\n",
      "Alice: Here I am at 0\n",
      "Bob: Here I am at 0\n",
      "Bob: I must leave at 3\n",
      "Alice: I must leave at 4\n",
      "Simulation stops at 4\n"
     ]
    }
   ],
   "source": [
    "env = Environment()\n",
    "alice_visited = Visitor(env, \"Alice\")\n",
    "bob_visited = Visitor(env, \"Bob\")\n",
    "print(f'Simulation starts at {env.now}')\n",
    "# simulation stops when both visits end\n",
    "env.run(until= alice_visited & bob_visited)\n",
    "print(f'Simulation stops at {env.now}')"
   ]
  },
  {
   "cell_type": "markdown",
   "id": "322e03cb",
   "metadata": {},
   "source": [
    "Bob leaved at 3. He got bored at 3 and would have had the photo at 4. bored is enough to complete the visit. \n",
    "\n",
    "Alice leaved at 4. She got the photo at 4 and would have been bored at 5. got_picture is enough to complete the visit."
   ]
  },
  {
   "cell_type": "markdown",
   "id": "721568b0",
   "metadata": {},
   "source": [
    "## Home work"
   ]
  },
  {
   "cell_type": "markdown",
   "id": "64e19286",
   "metadata": {},
   "source": [
    "implement a visit when both conditions are met.\n",
    "\n",
    "Which operation best reflect the time spent : \n",
    "    - sum of the duration of each sub process\n",
    "    - max of the duration the sub processes"
   ]
  },
  {
   "cell_type": "markdown",
   "id": "99e2e5ae",
   "metadata": {},
   "source": [
    "## References"
   ]
  },
  {
   "cell_type": "markdown",
   "id": "7858805a",
   "metadata": {},
   "source": [
    "TODO API \n",
    "TODO concepts"
   ]
  }
 ],
 "metadata": {
  "kernelspec": {
   "display_name": "Python 3 (ipykernel)",
   "language": "python",
   "name": "python3"
  },
  "language_info": {
   "codemirror_mode": {
    "name": "ipython",
    "version": 3
   },
   "file_extension": ".py",
   "mimetype": "text/x-python",
   "name": "python",
   "nbconvert_exporter": "python",
   "pygments_lexer": "ipython3",
   "version": "3.8.11"
  }
 },
 "nbformat": 4,
 "nbformat_minor": 5
}
