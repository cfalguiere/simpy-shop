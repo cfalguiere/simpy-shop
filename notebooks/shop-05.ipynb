{
 "cells": [
  {
   "cell_type": "code",
   "execution_count": 20,
   "id": "c379869b",
   "metadata": {},
   "outputs": [
    {
     "name": "stdout",
     "output_type": "stream",
     "text": [
      "Requirement already satisfied: simpy in /Users/cfalguiere/opt/anaconda3/envs/simpy/lib/python3.8/site-packages (4.0.1)\r\n",
      "Requirement already satisfied: plotly in /Users/cfalguiere/opt/anaconda3/envs/simpy/lib/python3.8/site-packages (5.3.1)\r\n",
      "Requirement already satisfied: pandas in /Users/cfalguiere/opt/anaconda3/envs/simpy/lib/python3.8/site-packages (1.3.3)\r\n",
      "Requirement already satisfied: numpy>=1.17.3 in /Users/cfalguiere/opt/anaconda3/envs/simpy/lib/python3.8/site-packages (from pandas) (1.21.2)\r\n",
      "Requirement already satisfied: pytz>=2017.3 in /Users/cfalguiere/opt/anaconda3/envs/simpy/lib/python3.8/site-packages (from pandas) (2021.3)\r\n",
      "Requirement already satisfied: python-dateutil>=2.7.3 in /Users/cfalguiere/opt/anaconda3/envs/simpy/lib/python3.8/site-packages (from pandas) (2.8.2)\r\n",
      "Requirement already satisfied: six>=1.5 in /Users/cfalguiere/opt/anaconda3/envs/simpy/lib/python3.8/site-packages (from python-dateutil>=2.7.3->pandas) (1.16.0)\r\n",
      "Requirement already satisfied: tenacity>=6.2.0 in /Users/cfalguiere/opt/anaconda3/envs/simpy/lib/python3.8/site-packages (from plotly) (8.0.1)\r\n"
     ]
    }
   ],
   "source": [
    "!pip install simpy plotly pandas"
   ]
  },
  {
   "cell_type": "markdown",
   "id": "7a61062e",
   "metadata": {},
   "source": [
    "### Goal\n",
    "- gen customers"
   ]
  },
  {
   "cell_type": "code",
   "execution_count": 21,
   "id": "9b6b3564",
   "metadata": {},
   "outputs": [],
   "source": [
    "from simpy import Process, Environment"
   ]
  },
  {
   "cell_type": "code",
   "execution_count": 49,
   "id": "1482c849",
   "metadata": {},
   "outputs": [],
   "source": [
    "# Model components -----------------------------\n",
    "\n",
    "\n",
    "class Customer(Process):  # 3\n",
    "    \"\"\" Customer arrives, looks around and leaves \"\"\"\n",
    "    def __init__(self, env):\n",
    "        super().__init__(env, self.visit(timeInBank))\n",
    "        self.name=\"C\"\n",
    "\n",
    "    def visit(self, timeInBank):  # 4\n",
    "        print(\"%2.1f %s  Here I am\" % (self.env.now, self.name))  # 5\n",
    "        yield hold, self, timeInBank  # 6\n",
    "        print(\"%2.1f %s  I must leave\" % (self.env.now, self.name))  # 7"
   ]
  },
  {
   "cell_type": "code",
   "execution_count": 23,
   "id": "9d39507c",
   "metadata": {},
   "outputs": [],
   "source": [
    "# Experiment data ------------------------------\n",
    "\n",
    "\n",
    "maxTime = 100.0     # minutes #8\n",
    "timeInBank = 10.0   # minutes"
   ]
  },
  {
   "cell_type": "code",
   "execution_count": 37,
   "id": "924dec31",
   "metadata": {},
   "outputs": [],
   "source": [
    "class World:\n",
    "    \n",
    "    def __init__(self, nb_customers=20, resource_capacity=5):\n",
    "        self.env = Environment()\n",
    "        c = Customer(self.env) \n",
    "        \n",
    "    def start(self, sim_duration = 20):\n",
    "        self.env.run(until=sim_duration)"
   ]
  },
  {
   "cell_type": "code",
   "execution_count": 50,
   "id": "edc4c966",
   "metadata": {},
   "outputs": [],
   "source": [
    "world = World(nb_customers = 30,\n",
    "              resource_capacity = 5 )"
   ]
  },
  {
   "cell_type": "code",
   "execution_count": 51,
   "id": "9c73f089",
   "metadata": {},
   "outputs": [
    {
     "name": "stdout",
     "output_type": "stream",
     "text": [
      "0.0 C  Here I am\n"
     ]
    },
    {
     "ename": "NameError",
     "evalue": "name 'hold' is not defined",
     "output_type": "error",
     "traceback": [
      "\u001b[0;31m---------------------------------------------------------------------------\u001b[0m",
      "\u001b[0;31mNameError\u001b[0m                                 Traceback (most recent call last)",
      "\u001b[0;32m/var/folders/mz/jwctlgxx11bg34b_1wygb5br0000gp/T/ipykernel_826/1141743587.py\u001b[0m in \u001b[0;36mvisit\u001b[0;34m(self, timeInBank)\u001b[0m\n\u001b[1;32m     11\u001b[0m         \u001b[0mprint\u001b[0m\u001b[0;34m(\u001b[0m\u001b[0;34m\"%2.1f %s  Here I am\"\u001b[0m \u001b[0;34m%\u001b[0m \u001b[0;34m(\u001b[0m\u001b[0mself\u001b[0m\u001b[0;34m.\u001b[0m\u001b[0menv\u001b[0m\u001b[0;34m.\u001b[0m\u001b[0mnow\u001b[0m\u001b[0;34m,\u001b[0m \u001b[0mself\u001b[0m\u001b[0;34m.\u001b[0m\u001b[0mname\u001b[0m\u001b[0;34m)\u001b[0m\u001b[0;34m)\u001b[0m  \u001b[0;31m# 5\u001b[0m\u001b[0;34m\u001b[0m\u001b[0;34m\u001b[0m\u001b[0m\n\u001b[0;32m---> 12\u001b[0;31m         \u001b[0;32myield\u001b[0m \u001b[0mhold\u001b[0m\u001b[0;34m,\u001b[0m \u001b[0mself\u001b[0m\u001b[0;34m,\u001b[0m \u001b[0mtimeInBank\u001b[0m  \u001b[0;31m# 6\u001b[0m\u001b[0;34m\u001b[0m\u001b[0;34m\u001b[0m\u001b[0m\n\u001b[0m\u001b[1;32m     13\u001b[0m         \u001b[0mprint\u001b[0m\u001b[0;34m(\u001b[0m\u001b[0;34m\"%2.1f %s  I must leave\"\u001b[0m \u001b[0;34m%\u001b[0m \u001b[0;34m(\u001b[0m\u001b[0mself\u001b[0m\u001b[0;34m.\u001b[0m\u001b[0menv\u001b[0m\u001b[0;34m.\u001b[0m\u001b[0mnow\u001b[0m\u001b[0;34m,\u001b[0m \u001b[0mself\u001b[0m\u001b[0;34m.\u001b[0m\u001b[0mname\u001b[0m\u001b[0;34m)\u001b[0m\u001b[0;34m)\u001b[0m  \u001b[0;31m# 7\u001b[0m\u001b[0;34m\u001b[0m\u001b[0;34m\u001b[0m\u001b[0m\n",
      "\u001b[0;31mNameError\u001b[0m: name 'hold' is not defined",
      "\nThe above exception was the direct cause of the following exception:\n",
      "\u001b[0;31mNameError\u001b[0m                                 Traceback (most recent call last)",
      "\u001b[0;32m/var/folders/mz/jwctlgxx11bg34b_1wygb5br0000gp/T/ipykernel_826/1809065088.py\u001b[0m in \u001b[0;36m<module>\u001b[0;34m\u001b[0m\n\u001b[0;32m----> 1\u001b[0;31m \u001b[0mworld\u001b[0m\u001b[0;34m.\u001b[0m\u001b[0mstart\u001b[0m\u001b[0;34m(\u001b[0m\u001b[0msim_duration\u001b[0m \u001b[0;34m=\u001b[0m \u001b[0;36m100\u001b[0m\u001b[0;34m)\u001b[0m\u001b[0;34m\u001b[0m\u001b[0;34m\u001b[0m\u001b[0m\n\u001b[0m",
      "\u001b[0;32m/var/folders/mz/jwctlgxx11bg34b_1wygb5br0000gp/T/ipykernel_826/1319101738.py\u001b[0m in \u001b[0;36mstart\u001b[0;34m(self, sim_duration)\u001b[0m\n\u001b[1;32m      6\u001b[0m \u001b[0;34m\u001b[0m\u001b[0m\n\u001b[1;32m      7\u001b[0m     \u001b[0;32mdef\u001b[0m \u001b[0mstart\u001b[0m\u001b[0;34m(\u001b[0m\u001b[0mself\u001b[0m\u001b[0;34m,\u001b[0m \u001b[0msim_duration\u001b[0m \u001b[0;34m=\u001b[0m \u001b[0;36m20\u001b[0m\u001b[0;34m)\u001b[0m\u001b[0;34m:\u001b[0m\u001b[0;34m\u001b[0m\u001b[0;34m\u001b[0m\u001b[0m\n\u001b[0;32m----> 8\u001b[0;31m         \u001b[0mself\u001b[0m\u001b[0;34m.\u001b[0m\u001b[0menv\u001b[0m\u001b[0;34m.\u001b[0m\u001b[0mrun\u001b[0m\u001b[0;34m(\u001b[0m\u001b[0muntil\u001b[0m\u001b[0;34m=\u001b[0m\u001b[0msim_duration\u001b[0m\u001b[0;34m)\u001b[0m\u001b[0;34m\u001b[0m\u001b[0;34m\u001b[0m\u001b[0m\n\u001b[0m",
      "\u001b[0;32m~/opt/anaconda3/envs/simpy/lib/python3.8/site-packages/simpy/core.py\u001b[0m in \u001b[0;36mrun\u001b[0;34m(self, until)\u001b[0m\n\u001b[1;32m    252\u001b[0m         \u001b[0;32mtry\u001b[0m\u001b[0;34m:\u001b[0m\u001b[0;34m\u001b[0m\u001b[0;34m\u001b[0m\u001b[0m\n\u001b[1;32m    253\u001b[0m             \u001b[0;32mwhile\u001b[0m \u001b[0;32mTrue\u001b[0m\u001b[0;34m:\u001b[0m\u001b[0;34m\u001b[0m\u001b[0;34m\u001b[0m\u001b[0m\n\u001b[0;32m--> 254\u001b[0;31m                 \u001b[0mself\u001b[0m\u001b[0;34m.\u001b[0m\u001b[0mstep\u001b[0m\u001b[0;34m(\u001b[0m\u001b[0;34m)\u001b[0m\u001b[0;34m\u001b[0m\u001b[0;34m\u001b[0m\u001b[0m\n\u001b[0m\u001b[1;32m    255\u001b[0m         \u001b[0;32mexcept\u001b[0m \u001b[0mStopSimulation\u001b[0m \u001b[0;32mas\u001b[0m \u001b[0mexc\u001b[0m\u001b[0;34m:\u001b[0m\u001b[0;34m\u001b[0m\u001b[0;34m\u001b[0m\u001b[0m\n\u001b[1;32m    256\u001b[0m             \u001b[0;32mreturn\u001b[0m \u001b[0mexc\u001b[0m\u001b[0;34m.\u001b[0m\u001b[0margs\u001b[0m\u001b[0;34m[\u001b[0m\u001b[0;36m0\u001b[0m\u001b[0;34m]\u001b[0m  \u001b[0;31m# == until.value\u001b[0m\u001b[0;34m\u001b[0m\u001b[0;34m\u001b[0m\u001b[0m\n",
      "\u001b[0;32m~/opt/anaconda3/envs/simpy/lib/python3.8/site-packages/simpy/core.py\u001b[0m in \u001b[0;36mstep\u001b[0;34m(self)\u001b[0m\n\u001b[1;32m    204\u001b[0m             \u001b[0mexc\u001b[0m \u001b[0;34m=\u001b[0m \u001b[0mtype\u001b[0m\u001b[0;34m(\u001b[0m\u001b[0mevent\u001b[0m\u001b[0;34m.\u001b[0m\u001b[0m_value\u001b[0m\u001b[0;34m)\u001b[0m\u001b[0;34m(\u001b[0m\u001b[0;34m*\u001b[0m\u001b[0mevent\u001b[0m\u001b[0;34m.\u001b[0m\u001b[0m_value\u001b[0m\u001b[0;34m.\u001b[0m\u001b[0margs\u001b[0m\u001b[0;34m)\u001b[0m\u001b[0;34m\u001b[0m\u001b[0;34m\u001b[0m\u001b[0m\n\u001b[1;32m    205\u001b[0m             \u001b[0mexc\u001b[0m\u001b[0;34m.\u001b[0m\u001b[0m__cause__\u001b[0m \u001b[0;34m=\u001b[0m \u001b[0mevent\u001b[0m\u001b[0;34m.\u001b[0m\u001b[0m_value\u001b[0m\u001b[0;34m\u001b[0m\u001b[0;34m\u001b[0m\u001b[0m\n\u001b[0;32m--> 206\u001b[0;31m             \u001b[0;32mraise\u001b[0m \u001b[0mexc\u001b[0m\u001b[0;34m\u001b[0m\u001b[0;34m\u001b[0m\u001b[0m\n\u001b[0m\u001b[1;32m    207\u001b[0m \u001b[0;34m\u001b[0m\u001b[0m\n\u001b[1;32m    208\u001b[0m     def run(\n",
      "\u001b[0;31mNameError\u001b[0m: name 'hold' is not defined"
     ]
    }
   ],
   "source": [
    "world.start(sim_duration = 100)"
   ]
  },
  {
   "cell_type": "code",
   "execution_count": null,
   "id": "e482b33e",
   "metadata": {},
   "outputs": [],
   "source": [
    "class MeetingCustomer(Process):  \n",
    "    def __init__(self, env):\n",
    "        super().__init__(env, self.meet())\n",
    "\n",
    "    def meet(self): \n",
    "        print(\"Here I am at %2.1f\" % self.env.now) \n",
    "        at = 2\n",
    "        yield env.event(duration)\n",
    "        print(\"I must leave at %2.1f\" % self.env.now) "
   ]
  },
  {
   "cell_type": "code",
   "execution_count": null,
   "id": "13373601",
   "metadata": {},
   "outputs": [],
   "source": [
    "# Model components -----------------------------\n",
    "\n",
    "\n",
    "class Customer(Process):  # 3\n",
    "    \"\"\" Customer arrives, looks around and leaves \"\"\"\n",
    "    def __init__(self, env):\n",
    "        super().__init__(env, self.visit(timeInBank))\n",
    "        self.name=\"C\"\n",
    "\n",
    "    def visit(self, timeInBank):  # 4\n",
    "        print(\"%2.1f %s  Here I am\" % (self.env.now, self.name))  # 5\n",
    "        yield hold, self, timeInBank  # 6\n",
    "        print(\"%2.1f %s  I must leave\" % (self.env.now, self.name))  # 7"
   ]
  },
  {
   "cell_type": "code",
   "execution_count": null,
   "id": "db15cb33",
   "metadata": {},
   "outputs": [],
   "source": [
    "class World:\n",
    "    \n",
    "    def __init__(self, nb_customers=20, resource_capacity=5):\n",
    "        self.env = Environment()\n",
    "        c = Customer(self.env) \n",
    "        \n",
    "    def start(self, sim_duration = 20):\n",
    "        self.env.run(until=sim_duration)"
   ]
  },
  {
   "cell_type": "code",
   "execution_count": null,
   "id": "18a08a03",
   "metadata": {},
   "outputs": [],
   "source": [
    "world = World(nb_customers = 30,\n",
    "              resource_capacity = 5 )"
   ]
  },
  {
   "cell_type": "code",
   "execution_count": null,
   "id": "0b3f6760",
   "metadata": {},
   "outputs": [],
   "source": [
    "# Experiment data ------------------------------\n",
    "\n",
    "\n",
    "maxTime = 100.0     # minutes #8\n",
    "timeInBank = 10.0   # minutes"
   ]
  },
  {
   "cell_type": "code",
   "execution_count": null,
   "id": "a0bf0ce6",
   "metadata": {},
   "outputs": [],
   "source": [
    "world.start(sim_duration = 100)"
   ]
  }
 ],
 "metadata": {
  "kernelspec": {
   "display_name": "Python 3 (ipykernel)",
   "language": "python",
   "name": "python3"
  },
  "language_info": {
   "codemirror_mode": {
    "name": "ipython",
    "version": 3
   },
   "file_extension": ".py",
   "mimetype": "text/x-python",
   "name": "python",
   "nbconvert_exporter": "python",
   "pygments_lexer": "ipython3",
   "version": "3.8.11"
  }
 },
 "nbformat": 4,
 "nbformat_minor": 5
}
