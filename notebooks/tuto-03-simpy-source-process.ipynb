{
 "cells": [
  {
   "cell_type": "code",
   "execution_count": 1,
   "id": "c379869b",
   "metadata": {},
   "outputs": [
    {
     "name": "stdout",
     "output_type": "stream",
     "text": [
      "Requirement already satisfied: simpy in /Users/cfalguiere/opt/anaconda3/envs/simpy/lib/python3.8/site-packages (4.0.1)\r\n"
     ]
    }
   ],
   "source": [
    "!pip install simpy"
   ]
  },
  {
   "cell_type": "markdown",
   "id": "7a61062e",
   "metadata": {},
   "source": [
    "### Goal\n",
    "- a source generate visitors"
   ]
  },
  {
   "cell_type": "code",
   "execution_count": 2,
   "id": "7632b7c6",
   "metadata": {},
   "outputs": [],
   "source": [
    "from simpy import Environment, Process"
   ]
  },
  {
   "cell_type": "code",
   "execution_count": 3,
   "id": "a3e4abff",
   "metadata": {},
   "outputs": [],
   "source": [
    "class Visitor(Process):  \n",
    "    def __init__(self, env, name):\n",
    "        super().__init__(env, self.visit())\n",
    "        self.name = name\n",
    "\n",
    "    def visit(self): \n",
    "        print(f\"{self.name}: Here I am at {self.env.now:2.1f}\") \n",
    "        duration = len(self.name)\n",
    "        yield env.timeout(duration)\n",
    "        print(f\"{self.name}: I must leave at {self.env.now:2.1f}\") "
   ]
  },
  {
   "cell_type": "code",
   "execution_count": 4,
   "id": "babfbaa2",
   "metadata": {},
   "outputs": [],
   "source": [
    "class BasicVisitorSource(Process):  \n",
    "    def __init__(self, env, names):\n",
    "        super().__init__(env, self.generate())\n",
    "        self.names = names\n",
    "\n",
    "    def generate(self): \n",
    "        for name in self.names:\n",
    "            yield self.env.timeout(1)\n",
    "            print(f\"start {name} at {self.env.now:2.1f}\") \n",
    "            Visitor(self.env, name)"
   ]
  },
  {
   "cell_type": "code",
   "execution_count": 5,
   "id": "fe05ea9c",
   "metadata": {},
   "outputs": [
    {
     "name": "stdout",
     "output_type": "stream",
     "text": [
      "start at 0\n",
      "start Alice at 1.0\n",
      "Alice: Here I am at 1.0\n",
      "start Bob at 2.0\n",
      "Bob: Here I am at 2.0\n",
      "Bob: I must leave at 5.0\n",
      "Alice: I must leave at 6.0\n",
      "stop at 10\n"
     ]
    }
   ],
   "source": [
    "sim_duration = 10\n",
    "env = Environment()\n",
    "source = BasicVisitorSource(env, [\"Alice\", \"Bob\"])\n",
    "print(f'start at {env.now}')\n",
    "env.run(until=sim_duration)\n",
    "print(f'stop at {env.now}')"
   ]
  },
  {
   "cell_type": "markdown",
   "id": "a1fe7c3b",
   "metadata": {},
   "source": [
    "please note that visitor whow once and leave"
   ]
  },
  {
   "cell_type": "markdown",
   "id": "bae33791",
   "metadata": {},
   "source": [
    "events.Event\n",
    "|\n",
    "+— events.Timeout\n",
    "|\n",
    "+— events.Initialize\n",
    "|\n",
    "+— events.Process\n",
    "|\n",
    "+— events.Condition\n",
    "|  |\n",
    "|  +— events.AllOf\n",
    "|  |\n",
    "|  +— events.AnyOf\n",
    ".\n",
    "."
   ]
  },
  {
   "cell_type": "markdown",
   "id": "36bd4b45",
   "metadata": {},
   "source": [
    "generator is an iterator, but it easier to write (example with __iter__ and __next__)\n",
    "as it is an iterator ou may user next\n"
   ]
  },
  {
   "cell_type": "markdown",
   "id": "c8fc6eeb",
   "metadata": {},
   "source": [
    "now add a callback\n",
    "never -processed but automaticaly triggered"
   ]
  },
  {
   "cell_type": "markdown",
   "id": "9c51105e",
   "metadata": {},
   "source": [
    "run sim until event occur"
   ]
  },
  {
   "cell_type": "markdown",
   "id": "a93335e3",
   "metadata": {},
   "source": [
    "until n stands for until timeout(n)\n",
    "stops when the process is done"
   ]
  },
  {
   "cell_type": "markdown",
   "id": "b93e79d2",
   "metadata": {},
   "source": [
    "until expect any event or condition"
   ]
  },
  {
   "cell_type": "markdown",
   "id": "123b047c",
   "metadata": {},
   "source": [
    "run sim until event occur\n",
    "event.succeed\n",
    "happy with visits\n",
    "\n",
    "condition and multiple condition"
   ]
  },
  {
   "cell_type": "code",
   "execution_count": 6,
   "id": "b19b9596",
   "metadata": {},
   "outputs": [
    {
     "name": "stdout",
     "output_type": "stream",
     "text": [
      "start at 0\n",
      "start Alice at 1.0\n",
      "Alice: Here I am at 1.0\n",
      "start Bob at 2.0\n",
      "Bob: Here I am at 2.0\n",
      "stop at 2\n"
     ]
    }
   ],
   "source": [
    "sim_duration = 10\n",
    "env = Environment()\n",
    "source = BasicVisitorSource(env, [\"Alice\", \"Bob\"])\n",
    "print(f'start at {env.now}')\n",
    "env.run(until=source)\n",
    "print(f'stop at {env.now}')"
   ]
  },
  {
   "cell_type": "markdown",
   "id": "35cd74a8",
   "metadata": {},
   "source": [
    "note that it does not wait until visitors are completed. \n",
    "This event ends when all vistors are created"
   ]
  },
  {
   "cell_type": "code",
   "execution_count": 7,
   "id": "128560a0",
   "metadata": {},
   "outputs": [],
   "source": [
    "class InfiniteVisitorSource(Process):  \n",
    "    def __init__(self, env):\n",
    "        super().__init__(env, self.generate())\n",
    "        self.count = 0\n",
    "\n",
    "    def generate(self): \n",
    "        while True:\n",
    "            yield self.env.timeout(1)\n",
    "            self.count += 1\n",
    "            name = f\"visitor-{self.count:03d}\"\n",
    "            print(f\"start {name} at {self.env.now:2.1f}\") \n",
    "            Visitor(self.env, name)"
   ]
  },
  {
   "cell_type": "code",
   "execution_count": 8,
   "id": "4e5acf92",
   "metadata": {},
   "outputs": [
    {
     "name": "stdout",
     "output_type": "stream",
     "text": [
      "start at 0\n",
      "start visitor-001 at 1.0\n",
      "visitor-001: Here I am at 1.0\n",
      "start visitor-002 at 2.0\n",
      "visitor-002: Here I am at 2.0\n",
      "start visitor-003 at 3.0\n",
      "visitor-003: Here I am at 3.0\n",
      "start visitor-004 at 4.0\n",
      "visitor-004: Here I am at 4.0\n",
      "start visitor-005 at 5.0\n",
      "visitor-005: Here I am at 5.0\n",
      "start visitor-006 at 6.0\n",
      "visitor-006: Here I am at 6.0\n",
      "start visitor-007 at 7.0\n",
      "visitor-007: Here I am at 7.0\n",
      "start visitor-008 at 8.0\n",
      "visitor-008: Here I am at 8.0\n",
      "start visitor-009 at 9.0\n",
      "visitor-009: Here I am at 9.0\n",
      "start visitor-010 at 10.0\n",
      "visitor-010: Here I am at 10.0\n",
      "start visitor-011 at 11.0\n",
      "visitor-011: Here I am at 11.0\n",
      "visitor-001: I must leave at 12.0\n",
      "start visitor-012 at 12.0\n",
      "visitor-012: Here I am at 12.0\n",
      "visitor-002: I must leave at 13.0\n",
      "start visitor-013 at 13.0\n",
      "visitor-013: Here I am at 13.0\n",
      "visitor-003: I must leave at 14.0\n",
      "start visitor-014 at 14.0\n",
      "visitor-014: Here I am at 14.0\n",
      "stop at 15\n"
     ]
    }
   ],
   "source": [
    "sim_duration = 15\n",
    "env = Environment()\n",
    "source = InfiniteVisitorSource(env)\n",
    "print(f'start at {env.now}')\n",
    "env.run(until=sim_duration)\n",
    "print(f'stop at {env.now}')"
   ]
  },
  {
   "cell_type": "code",
   "execution_count": 9,
   "id": "baf514b7",
   "metadata": {},
   "outputs": [],
   "source": [
    "class RampupSource(Process):  \n",
    "    def __init__(self, env, rate=1):\n",
    "        super().__init__(env, self.generate())\n",
    "        self.rate = rate\n",
    "        self.count = 0\n",
    "\n",
    "    def generate(self): \n",
    "        while True:\n",
    "            yield self.env.timeout(1)\n",
    "            for i in range(0, self.rate):\n",
    "                self.count += 1\n",
    "                visitor = self.create(self.count)\n",
    "                print(f\"start {visitor.name} at {self.env.now:2.1f}\") \n",
    "     \n",
    "    def create(self, count):\n",
    "        return None\n",
    "\n",
    "class RampupVisitorSource(RampupSource):  \n",
    "    def __init__(self, env, rate=1):\n",
    "        super().__init__(env, rate)\n",
    "     \n",
    "    def create(self, count):\n",
    "        name = f\"visitor-{count:03d}\"\n",
    "        visitor = Visitor(self.env, name)\n",
    "        print(f\"start {visitor.name} at {self.env.now:2.1f}\") \n",
    "        return visitor\n"
   ]
  },
  {
   "cell_type": "code",
   "execution_count": 10,
   "id": "522dbfcf",
   "metadata": {},
   "outputs": [
    {
     "name": "stdout",
     "output_type": "stream",
     "text": [
      "start at 0\n",
      "start visitor-001 at 1.0\n",
      "start visitor-002 at 1.0\n",
      "visitor-001: Here I am at 1.0\n",
      "visitor-002: Here I am at 1.0\n",
      "start visitor-003 at 2.0\n",
      "start visitor-004 at 2.0\n",
      "visitor-003: Here I am at 2.0\n",
      "visitor-004: Here I am at 2.0\n",
      "start visitor-005 at 3.0\n",
      "start visitor-006 at 3.0\n",
      "visitor-005: Here I am at 3.0\n",
      "visitor-006: Here I am at 3.0\n",
      "start visitor-007 at 4.0\n",
      "start visitor-008 at 4.0\n",
      "visitor-007: Here I am at 4.0\n",
      "visitor-008: Here I am at 4.0\n",
      "start visitor-009 at 5.0\n",
      "start visitor-010 at 5.0\n",
      "visitor-009: Here I am at 5.0\n",
      "visitor-010: Here I am at 5.0\n",
      "start visitor-011 at 6.0\n",
      "start visitor-012 at 6.0\n",
      "visitor-011: Here I am at 6.0\n",
      "visitor-012: Here I am at 6.0\n",
      "start visitor-013 at 7.0\n",
      "start visitor-014 at 7.0\n",
      "visitor-013: Here I am at 7.0\n",
      "visitor-014: Here I am at 7.0\n",
      "start visitor-015 at 8.0\n",
      "start visitor-016 at 8.0\n",
      "visitor-015: Here I am at 8.0\n",
      "visitor-016: Here I am at 8.0\n",
      "start visitor-017 at 9.0\n",
      "start visitor-018 at 9.0\n",
      "visitor-017: Here I am at 9.0\n",
      "visitor-018: Here I am at 9.0\n",
      "start visitor-019 at 10.0\n",
      "start visitor-020 at 10.0\n",
      "visitor-019: Here I am at 10.0\n",
      "visitor-020: Here I am at 10.0\n",
      "start visitor-021 at 11.0\n",
      "start visitor-022 at 11.0\n",
      "visitor-021: Here I am at 11.0\n",
      "visitor-022: Here I am at 11.0\n",
      "visitor-001: I must leave at 12.0\n",
      "visitor-002: I must leave at 12.0\n",
      "start visitor-023 at 12.0\n",
      "start visitor-024 at 12.0\n",
      "visitor-023: Here I am at 12.0\n",
      "visitor-024: Here I am at 12.0\n",
      "visitor-003: I must leave at 13.0\n",
      "visitor-004: I must leave at 13.0\n",
      "start visitor-025 at 13.0\n",
      "start visitor-026 at 13.0\n",
      "visitor-025: Here I am at 13.0\n",
      "visitor-026: Here I am at 13.0\n",
      "visitor-005: I must leave at 14.0\n",
      "visitor-006: I must leave at 14.0\n",
      "start visitor-027 at 14.0\n",
      "start visitor-028 at 14.0\n",
      "visitor-027: Here I am at 14.0\n",
      "visitor-028: Here I am at 14.0\n",
      "stop at 15\n"
     ]
    }
   ],
   "source": [
    "sim_duration = 15\n",
    "env = Environment()\n",
    "source = RampupVisitorSource(env, rate=2)\n",
    "print(f'start at {env.now}')\n",
    "env.run(until=sim_duration)\n",
    "print(f'stop at {env.now}')"
   ]
  },
  {
   "cell_type": "code",
   "execution_count": null,
   "id": "bf89a04c",
   "metadata": {},
   "outputs": [],
   "source": []
  }
 ],
 "metadata": {
  "kernelspec": {
   "display_name": "Python 3 (ipykernel)",
   "language": "python",
   "name": "python3"
  },
  "language_info": {
   "codemirror_mode": {
    "name": "ipython",
    "version": 3
   },
   "file_extension": ".py",
   "mimetype": "text/x-python",
   "name": "python",
   "nbconvert_exporter": "python",
   "pygments_lexer": "ipython3",
   "version": "3.8.11"
  }
 },
 "nbformat": 4,
 "nbformat_minor": 5
}
